{
 "cells": [
  {
   "cell_type": "markdown",
   "id": "66ef6a40",
   "metadata": {},
   "source": [
    "# 1. Import Libraries"
   ]
  },
  {
   "cell_type": "code",
   "execution_count": 1,
   "id": "3d2d8559",
   "metadata": {},
   "outputs": [],
   "source": [
    "# Import libraries\n",
    "\n",
    "import pandas as pd\n",
    "import numpy as np\n",
    "import os"
   ]
  },
  {
   "cell_type": "markdown",
   "id": "82c16668",
   "metadata": {},
   "source": [
    "# 2. Importing Data"
   ]
  },
  {
   "cell_type": "code",
   "execution_count": 2,
   "id": "595a70e0",
   "metadata": {},
   "outputs": [],
   "source": [
    "# Turn project folder path into a string\n",
    "path = r'/Users/thomasradio/Documents/Jupyter/230808 Tom Radio Achievement 6 Project'"
   ]
  },
  {
   "cell_type": "code",
   "execution_count": 3,
   "id": "f255e790",
   "metadata": {},
   "outputs": [
    {
     "data": {
      "text/plain": [
       "'/Users/thomasradio/Documents/Jupyter/230808 Tom Radio Achievement 6 Project'"
      ]
     },
     "execution_count": 3,
     "metadata": {},
     "output_type": "execute_result"
    }
   ],
   "source": [
    "# Check path\n",
    "path"
   ]
  },
  {
   "cell_type": "code",
   "execution_count": 4,
   "id": "ab01b415",
   "metadata": {},
   "outputs": [],
   "source": [
    "# Import puget sound currents dataset\n",
    "pugetsound_currents = pd.read_csv(os.path.join(path, '02 Data', 'Original Data', 'PugetSound_Currents.csv'))"
   ]
  },
  {
   "cell_type": "code",
   "execution_count": 5,
   "id": "266405b3",
   "metadata": {},
   "outputs": [
    {
     "data": {
      "text/html": [
       "<div>\n",
       "<style scoped>\n",
       "    .dataframe tbody tr th:only-of-type {\n",
       "        vertical-align: middle;\n",
       "    }\n",
       "\n",
       "    .dataframe tbody tr th {\n",
       "        vertical-align: top;\n",
       "    }\n",
       "\n",
       "    .dataframe thead th {\n",
       "        text-align: right;\n",
       "    }\n",
       "</style>\n",
       "<table border=\"1\" class=\"dataframe\">\n",
       "  <thead>\n",
       "    <tr style=\"text-align: right;\">\n",
       "      <th></th>\n",
       "      <th>Date_Time (LST/LDT)</th>\n",
       "      <th>Event</th>\n",
       "      <th>Speed (knots)</th>\n",
       "      <th>Dive Site</th>\n",
       "      <th>Current Station Name</th>\n",
       "      <th>Current Station ID</th>\n",
       "      <th>Latitude</th>\n",
       "      <th>Longitude</th>\n",
       "    </tr>\n",
       "  </thead>\n",
       "  <tbody>\n",
       "    <tr>\n",
       "      <th>0</th>\n",
       "      <td>1/1/24 0:48</td>\n",
       "      <td>slack</td>\n",
       "      <td>-</td>\n",
       "      <td>Deception Pass</td>\n",
       "      <td>Deception Pass Narrows</td>\n",
       "      <td>PUG1701</td>\n",
       "      <td>48.405722</td>\n",
       "      <td>-122.6449</td>\n",
       "    </tr>\n",
       "    <tr>\n",
       "      <th>1</th>\n",
       "      <td>1/1/24 3:18</td>\n",
       "      <td>flood</td>\n",
       "      <td>4</td>\n",
       "      <td>Deception Pass</td>\n",
       "      <td>Deception Pass Narrows</td>\n",
       "      <td>PUG1701</td>\n",
       "      <td>48.405722</td>\n",
       "      <td>-122.6449</td>\n",
       "    </tr>\n",
       "    <tr>\n",
       "      <th>2</th>\n",
       "      <td>1/1/24 6:42</td>\n",
       "      <td>slack</td>\n",
       "      <td>-</td>\n",
       "      <td>Deception Pass</td>\n",
       "      <td>Deception Pass Narrows</td>\n",
       "      <td>PUG1701</td>\n",
       "      <td>48.405722</td>\n",
       "      <td>-122.6449</td>\n",
       "    </tr>\n",
       "    <tr>\n",
       "      <th>3</th>\n",
       "      <td>1/1/24 9:30</td>\n",
       "      <td>ebb</td>\n",
       "      <td>-5.3</td>\n",
       "      <td>Deception Pass</td>\n",
       "      <td>Deception Pass Narrows</td>\n",
       "      <td>PUG1701</td>\n",
       "      <td>48.405722</td>\n",
       "      <td>-122.6449</td>\n",
       "    </tr>\n",
       "    <tr>\n",
       "      <th>4</th>\n",
       "      <td>1/1/24 13:42</td>\n",
       "      <td>slack</td>\n",
       "      <td>-</td>\n",
       "      <td>Deception Pass</td>\n",
       "      <td>Deception Pass Narrows</td>\n",
       "      <td>PUG1701</td>\n",
       "      <td>48.405722</td>\n",
       "      <td>-122.6449</td>\n",
       "    </tr>\n",
       "  </tbody>\n",
       "</table>\n",
       "</div>"
      ],
      "text/plain": [
       "  Date_Time (LST/LDT)   Event  Speed (knots)       Dive Site  \\\n",
       "0         1/1/24 0:48   slack              -  Deception Pass   \n",
       "1         1/1/24 3:18   flood              4  Deception Pass   \n",
       "2         1/1/24 6:42   slack              -  Deception Pass   \n",
       "3         1/1/24 9:30     ebb           -5.3  Deception Pass   \n",
       "4        1/1/24 13:42   slack              -  Deception Pass   \n",
       "\n",
       "     Current Station Name Current Station ID   Latitude  Longitude  \n",
       "0  Deception Pass Narrows            PUG1701  48.405722  -122.6449  \n",
       "1  Deception Pass Narrows            PUG1701  48.405722  -122.6449  \n",
       "2  Deception Pass Narrows            PUG1701  48.405722  -122.6449  \n",
       "3  Deception Pass Narrows            PUG1701  48.405722  -122.6449  \n",
       "4  Deception Pass Narrows            PUG1701  48.405722  -122.6449  "
      ]
     },
     "execution_count": 5,
     "metadata": {},
     "output_type": "execute_result"
    }
   ],
   "source": [
    "pugetsound_currents.head()"
   ]
  },
  {
   "cell_type": "code",
   "execution_count": 6,
   "id": "7e4c9270",
   "metadata": {},
   "outputs": [
    {
     "data": {
      "text/html": [
       "<div>\n",
       "<style scoped>\n",
       "    .dataframe tbody tr th:only-of-type {\n",
       "        vertical-align: middle;\n",
       "    }\n",
       "\n",
       "    .dataframe tbody tr th {\n",
       "        vertical-align: top;\n",
       "    }\n",
       "\n",
       "    .dataframe thead th {\n",
       "        text-align: right;\n",
       "    }\n",
       "</style>\n",
       "<table border=\"1\" class=\"dataframe\">\n",
       "  <thead>\n",
       "    <tr style=\"text-align: right;\">\n",
       "      <th></th>\n",
       "      <th>Date_Time (LST/LDT)</th>\n",
       "      <th>Event</th>\n",
       "      <th>Speed (knots)</th>\n",
       "      <th>Dive Site</th>\n",
       "      <th>Current Station Name</th>\n",
       "      <th>Current Station ID</th>\n",
       "      <th>Latitude</th>\n",
       "      <th>Longitude</th>\n",
       "    </tr>\n",
       "  </thead>\n",
       "  <tbody>\n",
       "    <tr>\n",
       "      <th>10995</th>\n",
       "      <td>12/31/24 9:42</td>\n",
       "      <td>ebb</td>\n",
       "      <td>-2.5</td>\n",
       "      <td>Tacoma Narrows</td>\n",
       "      <td>The Narrows, North</td>\n",
       "      <td>PUG4350</td>\n",
       "      <td>47.265336</td>\n",
       "      <td>-122.544439</td>\n",
       "    </tr>\n",
       "    <tr>\n",
       "      <th>10996</th>\n",
       "      <td>12/31/24 12:36</td>\n",
       "      <td>slack</td>\n",
       "      <td>-</td>\n",
       "      <td>Tacoma Narrows</td>\n",
       "      <td>The Narrows, North</td>\n",
       "      <td>PUG4351</td>\n",
       "      <td>47.265336</td>\n",
       "      <td>-122.544439</td>\n",
       "    </tr>\n",
       "    <tr>\n",
       "      <th>10997</th>\n",
       "      <td>12/31/24 14:36</td>\n",
       "      <td>flood</td>\n",
       "      <td>2.2</td>\n",
       "      <td>Tacoma Narrows</td>\n",
       "      <td>The Narrows, North</td>\n",
       "      <td>PUG4352</td>\n",
       "      <td>47.265336</td>\n",
       "      <td>-122.544439</td>\n",
       "    </tr>\n",
       "    <tr>\n",
       "      <th>10998</th>\n",
       "      <td>12/31/24 16:54</td>\n",
       "      <td>slack</td>\n",
       "      <td>-</td>\n",
       "      <td>Tacoma Narrows</td>\n",
       "      <td>The Narrows, North</td>\n",
       "      <td>PUG4353</td>\n",
       "      <td>47.265336</td>\n",
       "      <td>-122.544439</td>\n",
       "    </tr>\n",
       "    <tr>\n",
       "      <th>10999</th>\n",
       "      <td>12/31/24 20:48</td>\n",
       "      <td>ebb</td>\n",
       "      <td>-5</td>\n",
       "      <td>Tacoma Narrows</td>\n",
       "      <td>The Narrows, North</td>\n",
       "      <td>PUG4354</td>\n",
       "      <td>47.265336</td>\n",
       "      <td>-122.544439</td>\n",
       "    </tr>\n",
       "  </tbody>\n",
       "</table>\n",
       "</div>"
      ],
      "text/plain": [
       "      Date_Time (LST/LDT)   Event  Speed (knots)       Dive Site  \\\n",
       "10995       12/31/24 9:42     ebb           -2.5  Tacoma Narrows   \n",
       "10996      12/31/24 12:36   slack              -  Tacoma Narrows   \n",
       "10997      12/31/24 14:36   flood            2.2  Tacoma Narrows   \n",
       "10998      12/31/24 16:54   slack              -  Tacoma Narrows   \n",
       "10999      12/31/24 20:48     ebb             -5  Tacoma Narrows   \n",
       "\n",
       "      Current Station Name Current Station ID   Latitude   Longitude  \n",
       "10995   The Narrows, North            PUG4350  47.265336 -122.544439  \n",
       "10996   The Narrows, North            PUG4351  47.265336 -122.544439  \n",
       "10997   The Narrows, North            PUG4352  47.265336 -122.544439  \n",
       "10998   The Narrows, North            PUG4353  47.265336 -122.544439  \n",
       "10999   The Narrows, North            PUG4354  47.265336 -122.544439  "
      ]
     },
     "execution_count": 6,
     "metadata": {},
     "output_type": "execute_result"
    }
   ],
   "source": [
    "pugetsound_currents.tail()"
   ]
  },
  {
   "cell_type": "code",
   "execution_count": 7,
   "id": "20d964ae",
   "metadata": {},
   "outputs": [
    {
     "data": {
      "text/plain": [
       "(11000, 8)"
      ]
     },
     "execution_count": 7,
     "metadata": {},
     "output_type": "execute_result"
    }
   ],
   "source": [
    "pugetsound_currents.shape"
   ]
  },
  {
   "cell_type": "code",
   "execution_count": 8,
   "id": "a0749c18",
   "metadata": {},
   "outputs": [
    {
     "name": "stdout",
     "output_type": "stream",
     "text": [
      "<class 'pandas.core.frame.DataFrame'>\n",
      "RangeIndex: 11000 entries, 0 to 10999\n",
      "Data columns (total 8 columns):\n",
      " #   Column                Non-Null Count  Dtype  \n",
      "---  ------                --------------  -----  \n",
      " 0   Date_Time (LST/LDT)   11000 non-null  object \n",
      " 1    Event                11000 non-null  object \n",
      " 2    Speed (knots)        11000 non-null  object \n",
      " 3   Dive Site             11000 non-null  object \n",
      " 4   Current Station Name  11000 non-null  object \n",
      " 5   Current Station ID    11000 non-null  object \n",
      " 6   Latitude              11000 non-null  float64\n",
      " 7   Longitude             11000 non-null  float64\n",
      "dtypes: float64(2), object(6)\n",
      "memory usage: 687.6+ KB\n"
     ]
    }
   ],
   "source": [
    "pugetsound_currents.info()"
   ]
  },
  {
   "cell_type": "code",
   "execution_count": 9,
   "id": "4c5dfd9d",
   "metadata": {},
   "outputs": [
    {
     "data": {
      "text/plain": [
       "Date_Time (LST/LDT)      object\n",
       " Event                   object\n",
       " Speed (knots)           object\n",
       "Dive Site                object\n",
       "Current Station Name     object\n",
       "Current Station ID       object\n",
       "Latitude                float64\n",
       "Longitude               float64\n",
       "dtype: object"
      ]
     },
     "execution_count": 9,
     "metadata": {},
     "output_type": "execute_result"
    }
   ],
   "source": [
    "pugetsound_currents.dtypes"
   ]
  },
  {
   "cell_type": "code",
   "execution_count": 10,
   "id": "642fbf2f",
   "metadata": {},
   "outputs": [
    {
     "data": {
      "text/html": [
       "<div>\n",
       "<style scoped>\n",
       "    .dataframe tbody tr th:only-of-type {\n",
       "        vertical-align: middle;\n",
       "    }\n",
       "\n",
       "    .dataframe tbody tr th {\n",
       "        vertical-align: top;\n",
       "    }\n",
       "\n",
       "    .dataframe thead th {\n",
       "        text-align: right;\n",
       "    }\n",
       "</style>\n",
       "<table border=\"1\" class=\"dataframe\">\n",
       "  <thead>\n",
       "    <tr style=\"text-align: right;\">\n",
       "      <th></th>\n",
       "      <th>Latitude</th>\n",
       "      <th>Longitude</th>\n",
       "    </tr>\n",
       "  </thead>\n",
       "  <tbody>\n",
       "    <tr>\n",
       "      <th>count</th>\n",
       "      <td>11000.000000</td>\n",
       "      <td>11000.000000</td>\n",
       "    </tr>\n",
       "    <tr>\n",
       "      <th>mean</th>\n",
       "      <td>47.853540</td>\n",
       "      <td>-122.805871</td>\n",
       "    </tr>\n",
       "    <tr>\n",
       "      <th>std</th>\n",
       "      <td>0.456309</td>\n",
       "      <td>0.511353</td>\n",
       "    </tr>\n",
       "    <tr>\n",
       "      <th>min</th>\n",
       "      <td>47.265336</td>\n",
       "      <td>-123.704473</td>\n",
       "    </tr>\n",
       "    <tr>\n",
       "      <th>25%</th>\n",
       "      <td>47.265336</td>\n",
       "      <td>-122.644900</td>\n",
       "    </tr>\n",
       "    <tr>\n",
       "      <th>50%</th>\n",
       "      <td>47.588707</td>\n",
       "      <td>-122.544439</td>\n",
       "    </tr>\n",
       "    <tr>\n",
       "      <th>75%</th>\n",
       "      <td>48.405722</td>\n",
       "      <td>-122.544439</td>\n",
       "    </tr>\n",
       "    <tr>\n",
       "      <th>max</th>\n",
       "      <td>48.405722</td>\n",
       "      <td>-122.380009</td>\n",
       "    </tr>\n",
       "  </tbody>\n",
       "</table>\n",
       "</div>"
      ],
      "text/plain": [
       "           Latitude     Longitude\n",
       "count  11000.000000  11000.000000\n",
       "mean      47.853540   -122.805871\n",
       "std        0.456309      0.511353\n",
       "min       47.265336   -123.704473\n",
       "25%       47.265336   -122.644900\n",
       "50%       47.588707   -122.544439\n",
       "75%       48.405722   -122.544439\n",
       "max       48.405722   -122.380009"
      ]
     },
     "execution_count": 10,
     "metadata": {},
     "output_type": "execute_result"
    }
   ],
   "source": [
    "pugetsound_currents.describe()"
   ]
  },
  {
   "cell_type": "markdown",
   "id": "19e06113",
   "metadata": {},
   "source": [
    "# 3. Data Cleaning"
   ]
  },
  {
   "cell_type": "code",
   "execution_count": 11,
   "id": "f5662ed3",
   "metadata": {},
   "outputs": [],
   "source": [
    "# Splitting Date_Time column into separate date and time columns\n",
    "pugetsound_currents[['Date', 'Time']] = pugetsound_currents['Date_Time (LST/LDT)'].str.split(' ', expand=True)"
   ]
  },
  {
   "cell_type": "code",
   "execution_count": 12,
   "id": "4de87850",
   "metadata": {},
   "outputs": [],
   "source": [
    "# Dropping the original Date_Time column\n",
    "pugetsound_currents.drop(columns=['Date_Time (LST/LDT)'], inplace=True)"
   ]
  },
  {
   "cell_type": "code",
   "execution_count": 14,
   "id": "d0755538",
   "metadata": {},
   "outputs": [],
   "source": [
    "# Convert the \"Date\" column to datetime format\n",
    "pugetsound_currents['Date'] = pd.to_datetime(pugetsound_currents['Date'], format='%m/%d/%y')\n",
    "\n",
    "# Convert the \"Time\" column to datetime time format\n",
    "pugetsound_currents['Time'] = pd.to_datetime(pugetsound_currents['Time'], format='%H:%M').dt.time"
   ]
  },
  {
   "cell_type": "code",
   "execution_count": 19,
   "id": "3eafc122",
   "metadata": {},
   "outputs": [],
   "source": [
    "# Convert the \"Time\" column to datetime time format\n",
    "pugetsound_currents['Time'] = pd.to_datetime(pugetsound_currents['Time'], format='%H:%M:%S').dt.time"
   ]
  },
  {
   "cell_type": "code",
   "execution_count": 22,
   "id": "7e4cdfa0",
   "metadata": {},
   "outputs": [],
   "source": [
    "# Convert the \"Time\" column to datetime format and remove seconds\n",
    "pugetsound_currents['Time'] = pd.to_datetime(pugetsound_currents['Time'], format='%H:%M:%S').dt.strftime('%H:%M')\n"
   ]
  },
  {
   "cell_type": "code",
   "execution_count": 27,
   "id": "70606a44",
   "metadata": {},
   "outputs": [],
   "source": [
    "# Create a new column for the day of the week\n",
    "pugetsound_currents['Day of Week'] = pugetsound_currents['Date'].dt.dayofweek\n",
    "\n",
    "# Map the integer day of the week to day names\n",
    "day_names = ['Monday', 'Tuesday', 'Wednesday', 'Thursday', 'Friday', 'Saturday', 'Sunday']\n",
    "pugetsound_currents['Day of Week'] = pugetsound_currents['Day of Week'].apply(lambda x: day_names[x])\n"
   ]
  },
  {
   "cell_type": "code",
   "execution_count": 31,
   "id": "102a886e",
   "metadata": {},
   "outputs": [],
   "source": [
    "# Remove leading spaces from column names\n",
    "pugetsound_currents.columns = pugetsound_currents.columns.str.strip()"
   ]
  },
  {
   "cell_type": "code",
   "execution_count": 34,
   "id": "e07709d5",
   "metadata": {},
   "outputs": [],
   "source": [
    "# Reorder columns\n",
    "desired_order = ['Dive Site', 'Date', 'Day of Week', 'Time', 'Event', 'Speed (knots)', 'Current Station Name', 'Current Station ID', 'Latitude', 'Longitude']\n",
    "pugetsound_currents = pugetsound_currents[desired_order]"
   ]
  },
  {
   "cell_type": "code",
   "execution_count": 36,
   "id": "43fba19c",
   "metadata": {},
   "outputs": [],
   "source": [
    "# Rename columns\n",
    "pugetsound_currents.rename(columns={'Dive Site': 'Dive_Site', 'Day of Week': 'Day_of_Week', 'Speed (knots)': 'Current_Speed_(knots)', 'Current Station Name': 'Current_Station_Name', 'Current Station ID': 'Current_Station_ID'}, inplace=True)"
   ]
  },
  {
   "cell_type": "code",
   "execution_count": 37,
   "id": "6b34fada",
   "metadata": {},
   "outputs": [],
   "source": [
    "# Replace \"-\" with \"0\" for slack tide\n",
    "pugetsound_currents['Current_Speed_(knots)'] = pugetsound_currents['Current_Speed_(knots)'].apply(lambda x: '0' if x == '-' else x)"
   ]
  },
  {
   "cell_type": "code",
   "execution_count": 40,
   "id": "b0d6bfb4",
   "metadata": {},
   "outputs": [
    {
     "data": {
      "text/plain": [
       "(11000, 10)"
      ]
     },
     "execution_count": 40,
     "metadata": {},
     "output_type": "execute_result"
    }
   ],
   "source": [
    "pugetsound_currents.shape"
   ]
  },
  {
   "cell_type": "code",
   "execution_count": 43,
   "id": "b91bfe35",
   "metadata": {},
   "outputs": [],
   "source": [
    "# Convert Current_Speed_(knots) to numeric format\n",
    "pugetsound_currents['Current_Speed_(knots)'] = pd.to_numeric(pugetsound_currents['Current_Speed_(knots)'], errors='coerce')"
   ]
  },
  {
   "cell_type": "code",
   "execution_count": 48,
   "id": "b703e325",
   "metadata": {},
   "outputs": [
    {
     "data": {
      "image/png": "[encoded data removed]",
      "text/plain": [
       "<Figure size 640x480 with 1 Axes>"
      ]
     },
     "metadata": {},
     "output_type": "display_data"
    }
   ],
   "source": [
    "import matplotlib.pyplot as plt\n",
    "\n",
    "# Visualize numeric columns for outliers\n",
    "numeric_columns = ['Current_Speed_(knots)', 'Latitude', 'Longitude']\n",
    "pugetsound_currents.boxplot(column=numeric_columns)\n",
    "plt.show()"
   ]
  },
  {
   "cell_type": "code",
   "execution_count": 49,
   "id": "5173da69",
   "metadata": {},
   "outputs": [
    {
     "name": "stdout",
     "output_type": "stream",
     "text": [
      "0\n"
     ]
    }
   ],
   "source": [
    "# Check for duplicates\n",
    "print(pugetsound_currents.duplicated().sum())"
   ]
  },
  {
   "cell_type": "code",
   "execution_count": 50,
   "id": "34de665c",
   "metadata": {},
   "outputs": [
    {
     "name": "stdout",
     "output_type": "stream",
     "text": [
      "Dive_Site                0\n",
      "Date                     0\n",
      "Day_of_Week              0\n",
      "Time                     0\n",
      "Event                    0\n",
      "Current_Speed_(knots)    0\n",
      "Current_Station_Name     0\n",
      "Current_Station_ID       0\n",
      "Latitude                 0\n",
      "Longitude                0\n",
      "dtype: int64\n"
     ]
    }
   ],
   "source": [
    "# Check for missing values\n",
    "print(pugetsound_currents.isnull().sum())"
   ]
  },
  {
   "cell_type": "code",
   "execution_count": 51,
   "id": "28b04798",
   "metadata": {},
   "outputs": [
    {
     "name": "stdout",
     "output_type": "stream",
     "text": [
      "[' slack' ' flood' ' ebb']\n"
     ]
    }
   ],
   "source": [
    "# Check unique values in categorical columns for consistency\n",
    "print(pugetsound_currents['Event'].unique())"
   ]
  },
  {
   "cell_type": "code",
   "execution_count": 52,
   "id": "3ef320f4",
   "metadata": {},
   "outputs": [],
   "source": [
    "# Standardize naming (e.g., uppercase all station names)\n",
    "pugetsound_currents['Current_Station_Name'] = pugetsound_currents['Current_Station_Name'].str.upper()\n"
   ]
  },
  {
   "cell_type": "code",
   "execution_count": 53,
   "id": "9348b5d9",
   "metadata": {},
   "outputs": [],
   "source": [
    "# Export deception_pass_currents dataset as pickle\n",
    "pugetsound_currents.to_pickle(os.path.join(path, '02 Data','Prepared Data', 'pugetsound_currents_clean.pkl'))"
   ]
  },
  {
   "cell_type": "code",
   "execution_count": 54,
   "id": "151ba725",
   "metadata": {},
   "outputs": [],
   "source": [
    "# Export deception_pass_currents dataset as pickle\n",
    "pugetsound_currents.to_csv(os.path.join(path, '02 Data','Prepared Data', 'pugetsound_currents_clean.csv'))"
   ]
  },
  {
   "cell_type": "code",
   "execution_count": 55,
   "id": "425cf036",
   "metadata": {
    "scrolled": false
   },
   "outputs": [
    {
     "data": {
      "text/html": [
       "<div>\n",
       "<style scoped>\n",
       "    .dataframe tbody tr th:only-of-type {\n",
       "        vertical-align: middle;\n",
       "    }\n",
       "\n",
       "    .dataframe tbody tr th {\n",
       "        vertical-align: top;\n",
       "    }\n",
       "\n",
       "    .dataframe thead th {\n",
       "        text-align: right;\n",
       "    }\n",
       "</style>\n",
       "<table border=\"1\" class=\"dataframe\">\n",
       "  <thead>\n",
       "    <tr style=\"text-align: right;\">\n",
       "      <th></th>\n",
       "      <th>Dive_Site</th>\n",
       "      <th>Date</th>\n",
       "      <th>Day_of_Week</th>\n",
       "      <th>Time</th>\n",
       "      <th>Event</th>\n",
       "      <th>Current_Speed_(knots)</th>\n",
       "      <th>Current_Station_Name</th>\n",
       "      <th>Current_Station_ID</th>\n",
       "      <th>Latitude</th>\n",
       "      <th>Longitude</th>\n",
       "    </tr>\n",
       "  </thead>\n",
       "  <tbody>\n",
       "    <tr>\n",
       "      <th>0</th>\n",
       "      <td>Deception Pass</td>\n",
       "      <td>2024-01-01</td>\n",
       "      <td>Monday</td>\n",
       "      <td>00:48</td>\n",
       "      <td>slack</td>\n",
       "      <td>0.0</td>\n",
       "      <td>DECEPTION PASS NARROWS</td>\n",
       "      <td>PUG1701</td>\n",
       "      <td>48.405722</td>\n",
       "      <td>-122.6449</td>\n",
       "    </tr>\n",
       "    <tr>\n",
       "      <th>1</th>\n",
       "      <td>Deception Pass</td>\n",
       "      <td>2024-01-01</td>\n",
       "      <td>Monday</td>\n",
       "      <td>03:18</td>\n",
       "      <td>flood</td>\n",
       "      <td>4.0</td>\n",
       "      <td>DECEPTION PASS NARROWS</td>\n",
       "      <td>PUG1701</td>\n",
       "      <td>48.405722</td>\n",
       "      <td>-122.6449</td>\n",
       "    </tr>\n",
       "    <tr>\n",
       "      <th>2</th>\n",
       "      <td>Deception Pass</td>\n",
       "      <td>2024-01-01</td>\n",
       "      <td>Monday</td>\n",
       "      <td>06:42</td>\n",
       "      <td>slack</td>\n",
       "      <td>0.0</td>\n",
       "      <td>DECEPTION PASS NARROWS</td>\n",
       "      <td>PUG1701</td>\n",
       "      <td>48.405722</td>\n",
       "      <td>-122.6449</td>\n",
       "    </tr>\n",
       "    <tr>\n",
       "      <th>3</th>\n",
       "      <td>Deception Pass</td>\n",
       "      <td>2024-01-01</td>\n",
       "      <td>Monday</td>\n",
       "      <td>09:30</td>\n",
       "      <td>ebb</td>\n",
       "      <td>-5.3</td>\n",
       "      <td>DECEPTION PASS NARROWS</td>\n",
       "      <td>PUG1701</td>\n",
       "      <td>48.405722</td>\n",
       "      <td>-122.6449</td>\n",
       "    </tr>\n",
       "    <tr>\n",
       "      <th>4</th>\n",
       "      <td>Deception Pass</td>\n",
       "      <td>2024-01-01</td>\n",
       "      <td>Monday</td>\n",
       "      <td>13:42</td>\n",
       "      <td>slack</td>\n",
       "      <td>0.0</td>\n",
       "      <td>DECEPTION PASS NARROWS</td>\n",
       "      <td>PUG1701</td>\n",
       "      <td>48.405722</td>\n",
       "      <td>-122.6449</td>\n",
       "    </tr>\n",
       "  </tbody>\n",
       "</table>\n",
       "</div>"
      ],
      "text/plain": [
       "        Dive_Site       Date Day_of_Week   Time   Event  \\\n",
       "0  Deception Pass 2024-01-01      Monday  00:48   slack   \n",
       "1  Deception Pass 2024-01-01      Monday  03:18   flood   \n",
       "2  Deception Pass 2024-01-01      Monday  06:42   slack   \n",
       "3  Deception Pass 2024-01-01      Monday  09:30     ebb   \n",
       "4  Deception Pass 2024-01-01      Monday  13:42   slack   \n",
       "\n",
       "   Current_Speed_(knots)    Current_Station_Name Current_Station_ID  \\\n",
       "0                    0.0  DECEPTION PASS NARROWS            PUG1701   \n",
       "1                    4.0  DECEPTION PASS NARROWS            PUG1701   \n",
       "2                    0.0  DECEPTION PASS NARROWS            PUG1701   \n",
       "3                   -5.3  DECEPTION PASS NARROWS            PUG1701   \n",
       "4                    0.0  DECEPTION PASS NARROWS            PUG1701   \n",
       "\n",
       "    Latitude  Longitude  \n",
       "0  48.405722  -122.6449  \n",
       "1  48.405722  -122.6449  \n",
       "2  48.405722  -122.6449  \n",
       "3  48.405722  -122.6449  \n",
       "4  48.405722  -122.6449  "
      ]
     },
     "execution_count": 55,
     "metadata": {},
     "output_type": "execute_result"
    }
   ],
   "source": [
    "pugetsound_currents.head()"
   ]
  },
  {
   "cell_type": "code",
   "execution_count": 56,
   "id": "7a2794ee",
   "metadata": {
    "scrolled": false
   },
   "outputs": [
    {
     "name": "stdout",
     "output_type": "stream",
     "text": [
      "<class 'pandas.core.frame.DataFrame'>\n",
      "RangeIndex: 11000 entries, 0 to 10999\n",
      "Data columns (total 10 columns):\n",
      " #   Column                 Non-Null Count  Dtype         \n",
      "---  ------                 --------------  -----         \n",
      " 0   Dive_Site              11000 non-null  object        \n",
      " 1   Date                   11000 non-null  datetime64[ns]\n",
      " 2   Day_of_Week            11000 non-null  object        \n",
      " 3   Time                   11000 non-null  object        \n",
      " 4   Event                  11000 non-null  object        \n",
      " 5   Current_Speed_(knots)  11000 non-null  float64       \n",
      " 6   Current_Station_Name   11000 non-null  object        \n",
      " 7   Current_Station_ID     11000 non-null  object        \n",
      " 8   Latitude               11000 non-null  float64       \n",
      " 9   Longitude              11000 non-null  float64       \n",
      "dtypes: datetime64[ns](1), float64(3), object(6)\n",
      "memory usage: 859.5+ KB\n"
     ]
    }
   ],
   "source": [
    "pugetsound_currents.info()"
   ]
  },
  {
   "cell_type": "code",
   "execution_count": null,
   "id": "00b81bb7",
   "metadata": {},
   "outputs": [],
   "source": []
  }
 ],
 "metadata": {
  "kernelspec": {
   "display_name": "Python 3 (ipykernel)",
   "language": "python",
   "name": "python3"
  },
  "language_info": {
   "codemirror_mode": {
    "name": "ipython",
    "version": 3
   },
   "file_extension": ".py",
   "mimetype": "text/x-python",
   "name": "python",
   "nbconvert_exporter": "python",
   "pygments_lexer": "ipython3",
   "version": "3.11.4"
  }
 },
 "nbformat": 4,
 "nbformat_minor": 5
}
