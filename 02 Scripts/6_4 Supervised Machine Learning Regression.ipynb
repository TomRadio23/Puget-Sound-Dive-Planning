{
 "cells": [
  {
   "cell_type": "markdown",
   "id": "254d2e90",
   "metadata": {},
   "source": [
    "## 6.4 Machine Learning Part 1"
   ]
  },
  {
   "cell_type": "markdown",
   "id": "fbdde3a8",
   "metadata": {},
   "source": [
    "### This script contains the following:\n",
    "\n",
    "#### 1. Importing libraries and data\n",
    "#### 2. Data cleaning\n",
    "#### 3. Data prep for regression analysis\n",
    "#### 4. Regression analysis\n",
    "#### 5. Observations\n",
    "#### Bonus: performance improvement after evaluating individual dive sites\n",
    "#### Conclusion"
   ]
  },
  {
   "cell_type": "markdown",
   "id": "b881d7ad",
   "metadata": {},
   "source": [
    "### 1. Importing libraries and data"
   ]
  },
  {
   "cell_type": "code",
   "execution_count": 1,
   "id": "72da189e",
   "metadata": {},
   "outputs": [],
   "source": [
    "import pandas as pd\n",
    "import numpy as np\n",
    "import seaborn as sns\n",
    "import matplotlib\n",
    "import matplotlib.pyplot as plt\n",
    "import os\n",
    "import sklearn\n",
    "from sklearn.model_selection import train_test_split \n",
    "from sklearn.linear_model import LinearRegression\n",
    "from sklearn.metrics import mean_squared_error, r2_score"
   ]
  },
  {
   "cell_type": "code",
   "execution_count": 2,
   "id": "c23a3f8d",
   "metadata": {},
   "outputs": [],
   "source": [
    "# This option ensures that the graphs you create are displayed within the notebook without the need to \"call\" them specifically.\n",
    "\n",
    "%matplotlib inline"
   ]
  },
  {
   "cell_type": "code",
   "execution_count": 3,
   "id": "37c70dc7",
   "metadata": {},
   "outputs": [],
   "source": [
    "# Turn project folder path into a string\n",
    "path = r'/Users/thomasradio/Documents/Jupyter/230808 Tom Radio Achievement 6 Project'"
   ]
  },
  {
   "cell_type": "code",
   "execution_count": 4,
   "id": "b725bc7a",
   "metadata": {},
   "outputs": [
    {
     "data": {
      "text/plain": [
       "'/Users/thomasradio/Documents/Jupyter/230808 Tom Radio Achievement 6 Project'"
      ]
     },
     "execution_count": 4,
     "metadata": {},
     "output_type": "execute_result"
    }
   ],
   "source": [
    "path"
   ]
  },
  {
   "cell_type": "code",
   "execution_count": 5,
   "id": "04121798",
   "metadata": {},
   "outputs": [],
   "source": [
    "pugetsound_tides_currents = pd.read_pickle(os.path.join(path, '02 Data', 'Prepared Data', '6_4_pugetsound_tides_currents_lunar.pkl'))"
   ]
  },
  {
   "cell_type": "code",
   "execution_count": 6,
   "id": "42b83230",
   "metadata": {},
   "outputs": [
    {
     "data": {
      "text/html": [
       "<div>\n",
       "<style scoped>\n",
       "    .dataframe tbody tr th:only-of-type {\n",
       "        vertical-align: middle;\n",
       "    }\n",
       "\n",
       "    .dataframe tbody tr th {\n",
       "        vertical-align: top;\n",
       "    }\n",
       "\n",
       "    .dataframe thead th {\n",
       "        text-align: right;\n",
       "    }\n",
       "</style>\n",
       "<table border=\"1\" class=\"dataframe\">\n",
       "  <thead>\n",
       "    <tr style=\"text-align: right;\">\n",
       "      <th></th>\n",
       "      <th>Dive_Site</th>\n",
       "      <th>Date</th>\n",
       "      <th>Day_of_Week</th>\n",
       "      <th>Time</th>\n",
       "      <th>Event</th>\n",
       "      <th>Current_Speed_(knots)</th>\n",
       "      <th>Height (cm)</th>\n",
       "      <th>Height (ft)</th>\n",
       "      <th>Current_Station_Name</th>\n",
       "      <th>Current_Station_ID</th>\n",
       "      <th>Tide_Station_Name</th>\n",
       "      <th>Tide_Station_ID</th>\n",
       "      <th>Latitude</th>\n",
       "      <th>Longitude</th>\n",
       "      <th>Moon Illuminated</th>\n",
       "      <th>STATE_NAME</th>\n",
       "    </tr>\n",
       "  </thead>\n",
       "  <tbody>\n",
       "    <tr>\n",
       "      <th>0</th>\n",
       "      <td>Alki</td>\n",
       "      <td>2024-01-01</td>\n",
       "      <td>Monday</td>\n",
       "      <td>0:24:00</td>\n",
       "      <td>ebb</td>\n",
       "      <td>0.5</td>\n",
       "      <td>NaN</td>\n",
       "      <td>NaN</td>\n",
       "      <td>HARBOR ISLAND WEST</td>\n",
       "      <td>PUG1507</td>\n",
       "      <td>NaN</td>\n",
       "      <td>NaN</td>\n",
       "      <td>47.588707</td>\n",
       "      <td>-122.380009</td>\n",
       "      <td>0.75</td>\n",
       "      <td>Washington</td>\n",
       "    </tr>\n",
       "    <tr>\n",
       "      <th>1</th>\n",
       "      <td>Alki</td>\n",
       "      <td>2024-01-01</td>\n",
       "      <td>Monday</td>\n",
       "      <td>1:34:00</td>\n",
       "      <td>Low</td>\n",
       "      <td>NaN</td>\n",
       "      <td>20.0</td>\n",
       "      <td>0.66</td>\n",
       "      <td>NaN</td>\n",
       "      <td>NaN</td>\n",
       "      <td>LOCKHEED SHIPYARD</td>\n",
       "      <td>9447110.0</td>\n",
       "      <td>47.588707</td>\n",
       "      <td>-122.380009</td>\n",
       "      <td>0.75</td>\n",
       "      <td>Washington</td>\n",
       "    </tr>\n",
       "    <tr>\n",
       "      <th>2</th>\n",
       "      <td>Alki</td>\n",
       "      <td>2024-01-01</td>\n",
       "      <td>Monday</td>\n",
       "      <td>4:00:00</td>\n",
       "      <td>slack</td>\n",
       "      <td>0.0</td>\n",
       "      <td>NaN</td>\n",
       "      <td>NaN</td>\n",
       "      <td>HARBOR ISLAND WEST</td>\n",
       "      <td>PUG1508</td>\n",
       "      <td>NaN</td>\n",
       "      <td>NaN</td>\n",
       "      <td>47.588707</td>\n",
       "      <td>-122.380009</td>\n",
       "      <td>0.75</td>\n",
       "      <td>Washington</td>\n",
       "    </tr>\n",
       "    <tr>\n",
       "      <th>3</th>\n",
       "      <td>Alki</td>\n",
       "      <td>2024-01-01</td>\n",
       "      <td>Monday</td>\n",
       "      <td>6:12:00</td>\n",
       "      <td>flood</td>\n",
       "      <td>0.1</td>\n",
       "      <td>NaN</td>\n",
       "      <td>NaN</td>\n",
       "      <td>HARBOR ISLAND WEST</td>\n",
       "      <td>PUG1509</td>\n",
       "      <td>NaN</td>\n",
       "      <td>NaN</td>\n",
       "      <td>47.588707</td>\n",
       "      <td>-122.380009</td>\n",
       "      <td>0.75</td>\n",
       "      <td>Washington</td>\n",
       "    </tr>\n",
       "    <tr>\n",
       "      <th>4</th>\n",
       "      <td>Alki</td>\n",
       "      <td>2024-01-01</td>\n",
       "      <td>Monday</td>\n",
       "      <td>8:36:00</td>\n",
       "      <td>slack</td>\n",
       "      <td>0.0</td>\n",
       "      <td>NaN</td>\n",
       "      <td>NaN</td>\n",
       "      <td>HARBOR ISLAND WEST</td>\n",
       "      <td>PUG1510</td>\n",
       "      <td>NaN</td>\n",
       "      <td>NaN</td>\n",
       "      <td>47.588707</td>\n",
       "      <td>-122.380009</td>\n",
       "      <td>0.75</td>\n",
       "      <td>Washington</td>\n",
       "    </tr>\n",
       "    <tr>\n",
       "      <th>...</th>\n",
       "      <td>...</td>\n",
       "      <td>...</td>\n",
       "      <td>...</td>\n",
       "      <td>...</td>\n",
       "      <td>...</td>\n",
       "      <td>...</td>\n",
       "      <td>...</td>\n",
       "      <td>...</td>\n",
       "      <td>...</td>\n",
       "      <td>...</td>\n",
       "      <td>...</td>\n",
       "      <td>...</td>\n",
       "      <td>...</td>\n",
       "      <td>...</td>\n",
       "      <td>...</td>\n",
       "      <td>...</td>\n",
       "    </tr>\n",
       "    <tr>\n",
       "      <th>16621</th>\n",
       "      <td>Tacoma Narrows</td>\n",
       "      <td>2024-12-31</td>\n",
       "      <td>Tuesday</td>\n",
       "      <td>14:36:00</td>\n",
       "      <td>flood</td>\n",
       "      <td>2.2</td>\n",
       "      <td>NaN</td>\n",
       "      <td>NaN</td>\n",
       "      <td>THE NARROWS, NORTH</td>\n",
       "      <td>PUG4352</td>\n",
       "      <td>NaN</td>\n",
       "      <td>NaN</td>\n",
       "      <td>47.265336</td>\n",
       "      <td>-122.544439</td>\n",
       "      <td>0.00</td>\n",
       "      <td>Washington</td>\n",
       "    </tr>\n",
       "    <tr>\n",
       "      <th>16622</th>\n",
       "      <td>Tacoma Narrows</td>\n",
       "      <td>2024-12-31</td>\n",
       "      <td>Tuesday</td>\n",
       "      <td>16:18:00</td>\n",
       "      <td>High</td>\n",
       "      <td>NaN</td>\n",
       "      <td>355.0</td>\n",
       "      <td>11.65</td>\n",
       "      <td>NaN</td>\n",
       "      <td>NaN</td>\n",
       "      <td>TACOMA NARROWS BRIDGE</td>\n",
       "      <td>9446486.0</td>\n",
       "      <td>47.265336</td>\n",
       "      <td>-122.544439</td>\n",
       "      <td>0.00</td>\n",
       "      <td>Washington</td>\n",
       "    </tr>\n",
       "    <tr>\n",
       "      <th>16623</th>\n",
       "      <td>Tacoma Narrows</td>\n",
       "      <td>2024-12-31</td>\n",
       "      <td>Tuesday</td>\n",
       "      <td>16:54:00</td>\n",
       "      <td>slack</td>\n",
       "      <td>0.0</td>\n",
       "      <td>NaN</td>\n",
       "      <td>NaN</td>\n",
       "      <td>THE NARROWS, NORTH</td>\n",
       "      <td>PUG4353</td>\n",
       "      <td>NaN</td>\n",
       "      <td>NaN</td>\n",
       "      <td>47.265336</td>\n",
       "      <td>-122.544439</td>\n",
       "      <td>0.00</td>\n",
       "      <td>Washington</td>\n",
       "    </tr>\n",
       "    <tr>\n",
       "      <th>16624</th>\n",
       "      <td>Tacoma Narrows</td>\n",
       "      <td>2024-12-31</td>\n",
       "      <td>Tuesday</td>\n",
       "      <td>20:48:00</td>\n",
       "      <td>ebb</td>\n",
       "      <td>5.0</td>\n",
       "      <td>NaN</td>\n",
       "      <td>NaN</td>\n",
       "      <td>THE NARROWS, NORTH</td>\n",
       "      <td>PUG4354</td>\n",
       "      <td>NaN</td>\n",
       "      <td>NaN</td>\n",
       "      <td>47.265336</td>\n",
       "      <td>-122.544439</td>\n",
       "      <td>0.00</td>\n",
       "      <td>Washington</td>\n",
       "    </tr>\n",
       "    <tr>\n",
       "      <th>16625</th>\n",
       "      <td>Tacoma Narrows</td>\n",
       "      <td>2024-12-31</td>\n",
       "      <td>Tuesday</td>\n",
       "      <td>23:37:00</td>\n",
       "      <td>Low</td>\n",
       "      <td>NaN</td>\n",
       "      <td>-79.0</td>\n",
       "      <td>-2.58</td>\n",
       "      <td>NaN</td>\n",
       "      <td>NaN</td>\n",
       "      <td>TACOMA NARROWS BRIDGE</td>\n",
       "      <td>9446486.0</td>\n",
       "      <td>47.265336</td>\n",
       "      <td>-122.544439</td>\n",
       "      <td>0.00</td>\n",
       "      <td>Washington</td>\n",
       "    </tr>\n",
       "  </tbody>\n",
       "</table>\n",
       "<p>16626 rows × 16 columns</p>\n",
       "</div>"
      ],
      "text/plain": [
       "            Dive_Site       Date Day_of_Week      Time   Event  \\\n",
       "0                Alki 2024-01-01      Monday   0:24:00     ebb   \n",
       "1                Alki 2024-01-01      Monday   1:34:00     Low   \n",
       "2                Alki 2024-01-01      Monday   4:00:00   slack   \n",
       "3                Alki 2024-01-01      Monday   6:12:00   flood   \n",
       "4                Alki 2024-01-01      Monday   8:36:00   slack   \n",
       "...               ...        ...         ...       ...     ...   \n",
       "16621  Tacoma Narrows 2024-12-31     Tuesday  14:36:00   flood   \n",
       "16622  Tacoma Narrows 2024-12-31     Tuesday  16:18:00    High   \n",
       "16623  Tacoma Narrows 2024-12-31     Tuesday  16:54:00   slack   \n",
       "16624  Tacoma Narrows 2024-12-31     Tuesday  20:48:00     ebb   \n",
       "16625  Tacoma Narrows 2024-12-31     Tuesday  23:37:00     Low   \n",
       "\n",
       "       Current_Speed_(knots)  Height (cm)  Height (ft) Current_Station_Name  \\\n",
       "0                        0.5          NaN          NaN   HARBOR ISLAND WEST   \n",
       "1                        NaN         20.0         0.66                  NaN   \n",
       "2                        0.0          NaN          NaN   HARBOR ISLAND WEST   \n",
       "3                        0.1          NaN          NaN   HARBOR ISLAND WEST   \n",
       "4                        0.0          NaN          NaN   HARBOR ISLAND WEST   \n",
       "...                      ...          ...          ...                  ...   \n",
       "16621                    2.2          NaN          NaN   THE NARROWS, NORTH   \n",
       "16622                    NaN        355.0        11.65                  NaN   \n",
       "16623                    0.0          NaN          NaN   THE NARROWS, NORTH   \n",
       "16624                    5.0          NaN          NaN   THE NARROWS, NORTH   \n",
       "16625                    NaN        -79.0        -2.58                  NaN   \n",
       "\n",
       "      Current_Station_ID      Tide_Station_Name  Tide_Station_ID   Latitude  \\\n",
       "0                PUG1507                    NaN              NaN  47.588707   \n",
       "1                    NaN      LOCKHEED SHIPYARD        9447110.0  47.588707   \n",
       "2                PUG1508                    NaN              NaN  47.588707   \n",
       "3                PUG1509                    NaN              NaN  47.588707   \n",
       "4                PUG1510                    NaN              NaN  47.588707   \n",
       "...                  ...                    ...              ...        ...   \n",
       "16621            PUG4352                    NaN              NaN  47.265336   \n",
       "16622                NaN  TACOMA NARROWS BRIDGE        9446486.0  47.265336   \n",
       "16623            PUG4353                    NaN              NaN  47.265336   \n",
       "16624            PUG4354                    NaN              NaN  47.265336   \n",
       "16625                NaN  TACOMA NARROWS BRIDGE        9446486.0  47.265336   \n",
       "\n",
       "        Longitude  Moon Illuminated  STATE_NAME  \n",
       "0     -122.380009              0.75  Washington  \n",
       "1     -122.380009              0.75  Washington  \n",
       "2     -122.380009              0.75  Washington  \n",
       "3     -122.380009              0.75  Washington  \n",
       "4     -122.380009              0.75  Washington  \n",
       "...           ...               ...         ...  \n",
       "16621 -122.544439              0.00  Washington  \n",
       "16622 -122.544439              0.00  Washington  \n",
       "16623 -122.544439              0.00  Washington  \n",
       "16624 -122.544439              0.00  Washington  \n",
       "16625 -122.544439              0.00  Washington  \n",
       "\n",
       "[16626 rows x 16 columns]"
      ]
     },
     "execution_count": 6,
     "metadata": {},
     "output_type": "execute_result"
    }
   ],
   "source": [
    "pugetsound_tides_currents"
   ]
  },
  {
   "cell_type": "markdown",
   "id": "c8951da5",
   "metadata": {},
   "source": [
    "### 2. Data cleaning"
   ]
  },
  {
   "cell_type": "code",
   "execution_count": 7,
   "id": "329a2b9d",
   "metadata": {},
   "outputs": [],
   "source": [
    "# Select only the columns to keep\n",
    "selected_columns = ['Dive_Site', 'Current_Speed_(knots)', 'Moon Illuminated']"
   ]
  },
  {
   "cell_type": "code",
   "execution_count": 8,
   "id": "99b7818e",
   "metadata": {},
   "outputs": [],
   "source": [
    "# Create a new DataFrame with only the selected columns\n",
    "selected_data = pugetsound_tides_currents[selected_columns]"
   ]
  },
  {
   "cell_type": "code",
   "execution_count": 9,
   "id": "39e0d7b3",
   "metadata": {},
   "outputs": [
    {
     "data": {
      "text/html": [
       "<div>\n",
       "<style scoped>\n",
       "    .dataframe tbody tr th:only-of-type {\n",
       "        vertical-align: middle;\n",
       "    }\n",
       "\n",
       "    .dataframe tbody tr th {\n",
       "        vertical-align: top;\n",
       "    }\n",
       "\n",
       "    .dataframe thead th {\n",
       "        text-align: right;\n",
       "    }\n",
       "</style>\n",
       "<table border=\"1\" class=\"dataframe\">\n",
       "  <thead>\n",
       "    <tr style=\"text-align: right;\">\n",
       "      <th></th>\n",
       "      <th>Dive_Site</th>\n",
       "      <th>Current_Speed_(knots)</th>\n",
       "      <th>Moon Illuminated</th>\n",
       "    </tr>\n",
       "  </thead>\n",
       "  <tbody>\n",
       "    <tr>\n",
       "      <th>0</th>\n",
       "      <td>Alki</td>\n",
       "      <td>0.5</td>\n",
       "      <td>0.75</td>\n",
       "    </tr>\n",
       "    <tr>\n",
       "      <th>1</th>\n",
       "      <td>Alki</td>\n",
       "      <td>NaN</td>\n",
       "      <td>0.75</td>\n",
       "    </tr>\n",
       "    <tr>\n",
       "      <th>2</th>\n",
       "      <td>Alki</td>\n",
       "      <td>0.0</td>\n",
       "      <td>0.75</td>\n",
       "    </tr>\n",
       "    <tr>\n",
       "      <th>3</th>\n",
       "      <td>Alki</td>\n",
       "      <td>0.1</td>\n",
       "      <td>0.75</td>\n",
       "    </tr>\n",
       "    <tr>\n",
       "      <th>4</th>\n",
       "      <td>Alki</td>\n",
       "      <td>0.0</td>\n",
       "      <td>0.75</td>\n",
       "    </tr>\n",
       "    <tr>\n",
       "      <th>...</th>\n",
       "      <td>...</td>\n",
       "      <td>...</td>\n",
       "      <td>...</td>\n",
       "    </tr>\n",
       "    <tr>\n",
       "      <th>16621</th>\n",
       "      <td>Tacoma Narrows</td>\n",
       "      <td>2.2</td>\n",
       "      <td>0.00</td>\n",
       "    </tr>\n",
       "    <tr>\n",
       "      <th>16622</th>\n",
       "      <td>Tacoma Narrows</td>\n",
       "      <td>NaN</td>\n",
       "      <td>0.00</td>\n",
       "    </tr>\n",
       "    <tr>\n",
       "      <th>16623</th>\n",
       "      <td>Tacoma Narrows</td>\n",
       "      <td>0.0</td>\n",
       "      <td>0.00</td>\n",
       "    </tr>\n",
       "    <tr>\n",
       "      <th>16624</th>\n",
       "      <td>Tacoma Narrows</td>\n",
       "      <td>5.0</td>\n",
       "      <td>0.00</td>\n",
       "    </tr>\n",
       "    <tr>\n",
       "      <th>16625</th>\n",
       "      <td>Tacoma Narrows</td>\n",
       "      <td>NaN</td>\n",
       "      <td>0.00</td>\n",
       "    </tr>\n",
       "  </tbody>\n",
       "</table>\n",
       "<p>16626 rows × 3 columns</p>\n",
       "</div>"
      ],
      "text/plain": [
       "            Dive_Site  Current_Speed_(knots)  Moon Illuminated\n",
       "0                Alki                    0.5              0.75\n",
       "1                Alki                    NaN              0.75\n",
       "2                Alki                    0.0              0.75\n",
       "3                Alki                    0.1              0.75\n",
       "4                Alki                    0.0              0.75\n",
       "...               ...                    ...               ...\n",
       "16621  Tacoma Narrows                    2.2              0.00\n",
       "16622  Tacoma Narrows                    NaN              0.00\n",
       "16623  Tacoma Narrows                    0.0              0.00\n",
       "16624  Tacoma Narrows                    5.0              0.00\n",
       "16625  Tacoma Narrows                    NaN              0.00\n",
       "\n",
       "[16626 rows x 3 columns]"
      ]
     },
     "execution_count": 9,
     "metadata": {},
     "output_type": "execute_result"
    }
   ],
   "source": [
    "selected_data"
   ]
  },
  {
   "cell_type": "markdown",
   "id": "0ec9d330",
   "metadata": {},
   "source": [
    "##### Missing values"
   ]
  },
  {
   "cell_type": "code",
   "execution_count": 10,
   "id": "7153f08a",
   "metadata": {},
   "outputs": [
    {
     "data": {
      "text/plain": [
       "Dive_Site                   0\n",
       "Current_Speed_(knots)    5626\n",
       "Moon Illuminated            0\n",
       "dtype: int64"
      ]
     },
     "execution_count": 10,
     "metadata": {},
     "output_type": "execute_result"
    }
   ],
   "source": [
    "# Check for missing values\n",
    "\n",
    "selected_data.isnull().sum()"
   ]
  },
  {
   "cell_type": "code",
   "execution_count": 11,
   "id": "7a366211",
   "metadata": {},
   "outputs": [],
   "source": [
    "# Remove rows with missing values in 'Current_Speed_(knots)'\n",
    "selected_data = selected_data.dropna(subset=['Current_Speed_(knots)'])"
   ]
  },
  {
   "cell_type": "code",
   "execution_count": 12,
   "id": "d075696b",
   "metadata": {},
   "outputs": [
    {
     "data": {
      "text/plain": [
       "Dive_Site                0\n",
       "Current_Speed_(knots)    0\n",
       "Moon Illuminated         0\n",
       "dtype: int64"
      ]
     },
     "execution_count": 12,
     "metadata": {},
     "output_type": "execute_result"
    }
   ],
   "source": [
    "# Check for missing values\n",
    "\n",
    "selected_data.isnull().sum()"
   ]
  },
  {
   "cell_type": "code",
   "execution_count": 13,
   "id": "2775e04b",
   "metadata": {
    "scrolled": true
   },
   "outputs": [
    {
     "data": {
      "text/html": [
       "<div>\n",
       "<style scoped>\n",
       "    .dataframe tbody tr th:only-of-type {\n",
       "        vertical-align: middle;\n",
       "    }\n",
       "\n",
       "    .dataframe tbody tr th {\n",
       "        vertical-align: top;\n",
       "    }\n",
       "\n",
       "    .dataframe thead th {\n",
       "        text-align: right;\n",
       "    }\n",
       "</style>\n",
       "<table border=\"1\" class=\"dataframe\">\n",
       "  <thead>\n",
       "    <tr style=\"text-align: right;\">\n",
       "      <th></th>\n",
       "      <th>Dive_Site</th>\n",
       "      <th>Current_Speed_(knots)</th>\n",
       "      <th>Moon Illuminated</th>\n",
       "    </tr>\n",
       "  </thead>\n",
       "  <tbody>\n",
       "    <tr>\n",
       "      <th>0</th>\n",
       "      <td>Alki</td>\n",
       "      <td>0.5</td>\n",
       "      <td>0.75</td>\n",
       "    </tr>\n",
       "    <tr>\n",
       "      <th>2</th>\n",
       "      <td>Alki</td>\n",
       "      <td>0.0</td>\n",
       "      <td>0.75</td>\n",
       "    </tr>\n",
       "    <tr>\n",
       "      <th>3</th>\n",
       "      <td>Alki</td>\n",
       "      <td>0.1</td>\n",
       "      <td>0.75</td>\n",
       "    </tr>\n",
       "    <tr>\n",
       "      <th>4</th>\n",
       "      <td>Alki</td>\n",
       "      <td>0.0</td>\n",
       "      <td>0.75</td>\n",
       "    </tr>\n",
       "    <tr>\n",
       "      <th>6</th>\n",
       "      <td>Alki</td>\n",
       "      <td>0.2</td>\n",
       "      <td>0.75</td>\n",
       "    </tr>\n",
       "    <tr>\n",
       "      <th>...</th>\n",
       "      <td>...</td>\n",
       "      <td>...</td>\n",
       "      <td>...</td>\n",
       "    </tr>\n",
       "    <tr>\n",
       "      <th>16618</th>\n",
       "      <td>Tacoma Narrows</td>\n",
       "      <td>2.5</td>\n",
       "      <td>0.00</td>\n",
       "    </tr>\n",
       "    <tr>\n",
       "      <th>16620</th>\n",
       "      <td>Tacoma Narrows</td>\n",
       "      <td>0.0</td>\n",
       "      <td>0.00</td>\n",
       "    </tr>\n",
       "    <tr>\n",
       "      <th>16621</th>\n",
       "      <td>Tacoma Narrows</td>\n",
       "      <td>2.2</td>\n",
       "      <td>0.00</td>\n",
       "    </tr>\n",
       "    <tr>\n",
       "      <th>16623</th>\n",
       "      <td>Tacoma Narrows</td>\n",
       "      <td>0.0</td>\n",
       "      <td>0.00</td>\n",
       "    </tr>\n",
       "    <tr>\n",
       "      <th>16624</th>\n",
       "      <td>Tacoma Narrows</td>\n",
       "      <td>5.0</td>\n",
       "      <td>0.00</td>\n",
       "    </tr>\n",
       "  </tbody>\n",
       "</table>\n",
       "<p>11000 rows × 3 columns</p>\n",
       "</div>"
      ],
      "text/plain": [
       "            Dive_Site  Current_Speed_(knots)  Moon Illuminated\n",
       "0                Alki                    0.5              0.75\n",
       "2                Alki                    0.0              0.75\n",
       "3                Alki                    0.1              0.75\n",
       "4                Alki                    0.0              0.75\n",
       "6                Alki                    0.2              0.75\n",
       "...               ...                    ...               ...\n",
       "16618  Tacoma Narrows                    2.5              0.00\n",
       "16620  Tacoma Narrows                    0.0              0.00\n",
       "16621  Tacoma Narrows                    2.2              0.00\n",
       "16623  Tacoma Narrows                    0.0              0.00\n",
       "16624  Tacoma Narrows                    5.0              0.00\n",
       "\n",
       "[11000 rows x 3 columns]"
      ]
     },
     "execution_count": 13,
     "metadata": {},
     "output_type": "execute_result"
    }
   ],
   "source": [
    "selected_data"
   ]
  },
  {
   "cell_type": "markdown",
   "id": "4330e2f2",
   "metadata": {},
   "source": [
    "##### Extreme values checks"
   ]
  },
  {
   "cell_type": "code",
   "execution_count": 14,
   "id": "3ecd4516",
   "metadata": {},
   "outputs": [
    {
     "name": "stderr",
     "output_type": "stream",
     "text": [
      "/var/folders/wy/62t22_pd525blsykm014z4tm0000gn/T/ipykernel_72750/3907862593.py:1: UserWarning: \n",
      "\n",
      "`distplot` is a deprecated function and will be removed in seaborn v0.14.0.\n",
      "\n",
      "Please adapt your code to use either `displot` (a figure-level function with\n",
      "similar flexibility) or `histplot` (an axes-level function for histograms).\n",
      "\n",
      "For a guide to updating your code to use the new functions, please see\n",
      "https://gist.github.com/mwaskom/de44147ed2974457ad6372750bbe5751\n",
      "\n",
      "  sns.distplot(selected_data['Current_Speed_(knots)'], bins=25) # Shows extreme values\n"
     ]
    },
    {
     "data": {
      "text/plain": [
       "<Axes: xlabel='Current_Speed_(knots)', ylabel='Density'>"
      ]
     },
     "execution_count": 14,
     "metadata": {},
     "output_type": "execute_result"
    },
    {
     "data": {
      "image/png": "[encoded data removed]",
      "text/plain": [
       "<Figure size 640x480 with 1 Axes>"
      ]
     },
     "metadata": {},
     "output_type": "display_data"
    }
   ],
   "source": [
    "sns.distplot(selected_data['Current_Speed_(knots)'], bins=25) # Shows extreme values"
   ]
  },
  {
   "cell_type": "code",
   "execution_count": 15,
   "id": "21441664",
   "metadata": {},
   "outputs": [
    {
     "data": {
      "text/plain": [
       "1.2900727272727273"
      ]
     },
     "execution_count": 15,
     "metadata": {},
     "output_type": "execute_result"
    }
   ],
   "source": [
    "selected_data['Current_Speed_(knots)'].mean() # Check the mean"
   ]
  },
  {
   "cell_type": "code",
   "execution_count": 16,
   "id": "78e022a5",
   "metadata": {},
   "outputs": [
    {
     "data": {
      "text/plain": [
       "0.0"
      ]
     },
     "execution_count": 16,
     "metadata": {},
     "output_type": "execute_result"
    }
   ],
   "source": [
    "selected_data['Current_Speed_(knots)'].median() # Check the median"
   ]
  },
  {
   "cell_type": "code",
   "execution_count": 17,
   "id": "4c722a5e",
   "metadata": {},
   "outputs": [
    {
     "data": {
      "text/plain": [
       "8.6"
      ]
     },
     "execution_count": 17,
     "metadata": {},
     "output_type": "execute_result"
    }
   ],
   "source": [
    "selected_data['Current_Speed_(knots)'].max() # Check the max"
   ]
  },
  {
   "cell_type": "markdown",
   "id": "e03c4b51",
   "metadata": {},
   "source": [
    "### Exclude irrelevant data"
   ]
  },
  {
   "cell_type": "code",
   "execution_count": 18,
   "id": "d19d321d",
   "metadata": {},
   "outputs": [],
   "source": [
    "# Remove rows with \"0\" entries in the 'Current_Speed_(knots)' column\n",
    "selected_data = selected_data[selected_data['Current_Speed_(knots)'] != 0.0]"
   ]
  },
  {
   "cell_type": "code",
   "execution_count": 19,
   "id": "824830b2",
   "metadata": {},
   "outputs": [
    {
     "data": {
      "text/plain": [
       "0.1"
      ]
     },
     "execution_count": 19,
     "metadata": {},
     "output_type": "execute_result"
    }
   ],
   "source": [
    "selected_data['Current_Speed_(knots)'].min()"
   ]
  },
  {
   "cell_type": "code",
   "execution_count": 20,
   "id": "74dc8064",
   "metadata": {},
   "outputs": [
    {
     "data": {
      "text/html": [
       "<div>\n",
       "<style scoped>\n",
       "    .dataframe tbody tr th:only-of-type {\n",
       "        vertical-align: middle;\n",
       "    }\n",
       "\n",
       "    .dataframe tbody tr th {\n",
       "        vertical-align: top;\n",
       "    }\n",
       "\n",
       "    .dataframe thead th {\n",
       "        text-align: right;\n",
       "    }\n",
       "</style>\n",
       "<table border=\"1\" class=\"dataframe\">\n",
       "  <thead>\n",
       "    <tr style=\"text-align: right;\">\n",
       "      <th></th>\n",
       "      <th>Dive_Site</th>\n",
       "      <th>Current_Speed_(knots)</th>\n",
       "      <th>Moon Illuminated</th>\n",
       "    </tr>\n",
       "  </thead>\n",
       "  <tbody>\n",
       "    <tr>\n",
       "      <th>0</th>\n",
       "      <td>Alki</td>\n",
       "      <td>0.5</td>\n",
       "      <td>0.75</td>\n",
       "    </tr>\n",
       "    <tr>\n",
       "      <th>3</th>\n",
       "      <td>Alki</td>\n",
       "      <td>0.1</td>\n",
       "      <td>0.75</td>\n",
       "    </tr>\n",
       "    <tr>\n",
       "      <th>6</th>\n",
       "      <td>Alki</td>\n",
       "      <td>0.2</td>\n",
       "      <td>0.75</td>\n",
       "    </tr>\n",
       "    <tr>\n",
       "      <th>11</th>\n",
       "      <td>Alki</td>\n",
       "      <td>0.4</td>\n",
       "      <td>0.67</td>\n",
       "    </tr>\n",
       "    <tr>\n",
       "      <th>14</th>\n",
       "      <td>Alki</td>\n",
       "      <td>0.1</td>\n",
       "      <td>0.67</td>\n",
       "    </tr>\n",
       "    <tr>\n",
       "      <th>17</th>\n",
       "      <td>Alki</td>\n",
       "      <td>0.2</td>\n",
       "      <td>0.67</td>\n",
       "    </tr>\n",
       "    <tr>\n",
       "      <th>23</th>\n",
       "      <td>Alki</td>\n",
       "      <td>0.3</td>\n",
       "      <td>0.58</td>\n",
       "    </tr>\n",
       "    <tr>\n",
       "      <th>26</th>\n",
       "      <td>Alki</td>\n",
       "      <td>0.1</td>\n",
       "      <td>0.58</td>\n",
       "    </tr>\n",
       "    <tr>\n",
       "      <th>29</th>\n",
       "      <td>Alki</td>\n",
       "      <td>0.3</td>\n",
       "      <td>0.58</td>\n",
       "    </tr>\n",
       "    <tr>\n",
       "      <th>34</th>\n",
       "      <td>Alki</td>\n",
       "      <td>0.2</td>\n",
       "      <td>0.48</td>\n",
       "    </tr>\n",
       "  </tbody>\n",
       "</table>\n",
       "</div>"
      ],
      "text/plain": [
       "   Dive_Site  Current_Speed_(knots)  Moon Illuminated\n",
       "0       Alki                    0.5              0.75\n",
       "3       Alki                    0.1              0.75\n",
       "6       Alki                    0.2              0.75\n",
       "11      Alki                    0.4              0.67\n",
       "14      Alki                    0.1              0.67\n",
       "17      Alki                    0.2              0.67\n",
       "23      Alki                    0.3              0.58\n",
       "26      Alki                    0.1              0.58\n",
       "29      Alki                    0.3              0.58\n",
       "34      Alki                    0.2              0.48"
      ]
     },
     "execution_count": 20,
     "metadata": {},
     "output_type": "execute_result"
    }
   ],
   "source": [
    "selected_data.head(10)"
   ]
  },
  {
   "cell_type": "code",
   "execution_count": 21,
   "id": "f8db4999",
   "metadata": {},
   "outputs": [
    {
     "data": {
      "text/html": [
       "<div>\n",
       "<style scoped>\n",
       "    .dataframe tbody tr th:only-of-type {\n",
       "        vertical-align: middle;\n",
       "    }\n",
       "\n",
       "    .dataframe tbody tr th {\n",
       "        vertical-align: top;\n",
       "    }\n",
       "\n",
       "    .dataframe thead th {\n",
       "        text-align: right;\n",
       "    }\n",
       "</style>\n",
       "<table border=\"1\" class=\"dataframe\">\n",
       "  <thead>\n",
       "    <tr style=\"text-align: right;\">\n",
       "      <th></th>\n",
       "      <th>Dive_Site</th>\n",
       "      <th>Current_Speed_(knots)</th>\n",
       "      <th>Moon Illuminated</th>\n",
       "    </tr>\n",
       "  </thead>\n",
       "  <tbody>\n",
       "    <tr>\n",
       "      <th>16597</th>\n",
       "      <td>Tacoma Narrows</td>\n",
       "      <td>1.6</td>\n",
       "      <td>0.03</td>\n",
       "    </tr>\n",
       "    <tr>\n",
       "      <th>16600</th>\n",
       "      <td>Tacoma Narrows</td>\n",
       "      <td>4.6</td>\n",
       "      <td>0.03</td>\n",
       "    </tr>\n",
       "    <tr>\n",
       "      <th>16603</th>\n",
       "      <td>Tacoma Narrows</td>\n",
       "      <td>5.1</td>\n",
       "      <td>0.01</td>\n",
       "    </tr>\n",
       "    <tr>\n",
       "      <th>16606</th>\n",
       "      <td>Tacoma Narrows</td>\n",
       "      <td>2.3</td>\n",
       "      <td>0.01</td>\n",
       "    </tr>\n",
       "    <tr>\n",
       "      <th>16609</th>\n",
       "      <td>Tacoma Narrows</td>\n",
       "      <td>1.9</td>\n",
       "      <td>0.01</td>\n",
       "    </tr>\n",
       "    <tr>\n",
       "      <th>16612</th>\n",
       "      <td>Tacoma Narrows</td>\n",
       "      <td>4.8</td>\n",
       "      <td>0.01</td>\n",
       "    </tr>\n",
       "    <tr>\n",
       "      <th>16615</th>\n",
       "      <td>Tacoma Narrows</td>\n",
       "      <td>5.3</td>\n",
       "      <td>0.00</td>\n",
       "    </tr>\n",
       "    <tr>\n",
       "      <th>16618</th>\n",
       "      <td>Tacoma Narrows</td>\n",
       "      <td>2.5</td>\n",
       "      <td>0.00</td>\n",
       "    </tr>\n",
       "    <tr>\n",
       "      <th>16621</th>\n",
       "      <td>Tacoma Narrows</td>\n",
       "      <td>2.2</td>\n",
       "      <td>0.00</td>\n",
       "    </tr>\n",
       "    <tr>\n",
       "      <th>16624</th>\n",
       "      <td>Tacoma Narrows</td>\n",
       "      <td>5.0</td>\n",
       "      <td>0.00</td>\n",
       "    </tr>\n",
       "  </tbody>\n",
       "</table>\n",
       "</div>"
      ],
      "text/plain": [
       "            Dive_Site  Current_Speed_(knots)  Moon Illuminated\n",
       "16597  Tacoma Narrows                    1.6              0.03\n",
       "16600  Tacoma Narrows                    4.6              0.03\n",
       "16603  Tacoma Narrows                    5.1              0.01\n",
       "16606  Tacoma Narrows                    2.3              0.01\n",
       "16609  Tacoma Narrows                    1.9              0.01\n",
       "16612  Tacoma Narrows                    4.8              0.01\n",
       "16615  Tacoma Narrows                    5.3              0.00\n",
       "16618  Tacoma Narrows                    2.5              0.00\n",
       "16621  Tacoma Narrows                    2.2              0.00\n",
       "16624  Tacoma Narrows                    5.0              0.00"
      ]
     },
     "execution_count": 21,
     "metadata": {},
     "output_type": "execute_result"
    }
   ],
   "source": [
    "selected_data.tail(10)"
   ]
  },
  {
   "cell_type": "code",
   "execution_count": 22,
   "id": "8b4c42d0",
   "metadata": {},
   "outputs": [
    {
     "data": {
      "text/html": [
       "<div>\n",
       "<style scoped>\n",
       "    .dataframe tbody tr th:only-of-type {\n",
       "        vertical-align: middle;\n",
       "    }\n",
       "\n",
       "    .dataframe tbody tr th {\n",
       "        vertical-align: top;\n",
       "    }\n",
       "\n",
       "    .dataframe thead th {\n",
       "        text-align: right;\n",
       "    }\n",
       "</style>\n",
       "<table border=\"1\" class=\"dataframe\">\n",
       "  <thead>\n",
       "    <tr style=\"text-align: right;\">\n",
       "      <th></th>\n",
       "      <th>Current_Speed_(knots)</th>\n",
       "      <th>Moon Illuminated</th>\n",
       "    </tr>\n",
       "  </thead>\n",
       "  <tbody>\n",
       "    <tr>\n",
       "      <th>count</th>\n",
       "      <td>5446.000000</td>\n",
       "      <td>5446.000000</td>\n",
       "    </tr>\n",
       "    <tr>\n",
       "      <th>mean</th>\n",
       "      <td>2.605729</td>\n",
       "      <td>0.492798</td>\n",
       "    </tr>\n",
       "    <tr>\n",
       "      <th>std</th>\n",
       "      <td>2.153240</td>\n",
       "      <td>0.354141</td>\n",
       "    </tr>\n",
       "    <tr>\n",
       "      <th>min</th>\n",
       "      <td>0.100000</td>\n",
       "      <td>0.000000</td>\n",
       "    </tr>\n",
       "    <tr>\n",
       "      <th>25%</th>\n",
       "      <td>0.600000</td>\n",
       "      <td>0.130000</td>\n",
       "    </tr>\n",
       "    <tr>\n",
       "      <th>50%</th>\n",
       "      <td>2.100000</td>\n",
       "      <td>0.480000</td>\n",
       "    </tr>\n",
       "    <tr>\n",
       "      <th>75%</th>\n",
       "      <td>4.500000</td>\n",
       "      <td>0.850000</td>\n",
       "    </tr>\n",
       "    <tr>\n",
       "      <th>max</th>\n",
       "      <td>8.600000</td>\n",
       "      <td>1.000000</td>\n",
       "    </tr>\n",
       "  </tbody>\n",
       "</table>\n",
       "</div>"
      ],
      "text/plain": [
       "       Current_Speed_(knots)  Moon Illuminated\n",
       "count            5446.000000       5446.000000\n",
       "mean                2.605729          0.492798\n",
       "std                 2.153240          0.354141\n",
       "min                 0.100000          0.000000\n",
       "25%                 0.600000          0.130000\n",
       "50%                 2.100000          0.480000\n",
       "75%                 4.500000          0.850000\n",
       "max                 8.600000          1.000000"
      ]
     },
     "execution_count": 22,
     "metadata": {},
     "output_type": "execute_result"
    }
   ],
   "source": [
    "selected_data.describe()"
   ]
  },
  {
   "cell_type": "markdown",
   "id": "c13b256f",
   "metadata": {},
   "source": [
    "#### I chose to eliminate all entries with a \"0\" value from the \"Current_Speed_(knots)\" column. These specific entries correspond to instances of slack tide, which occur approximately four times daily regardless of the moon's phase. Our primary focus is on investigating the impact of lunar phases on the highest observed current speed at each dive site. Inclusion of these \"0\" entries could potentially introduce bias to the dataset, as they do not contribute to the variability in current speed during non-slack tide periods. By removing these entries, we aim to ensure a more accurate examination of the influence of lunar phases on the maximum current speeds observed.\n"
   ]
  },
  {
   "cell_type": "markdown",
   "id": "28e2f32d",
   "metadata": {},
   "source": [
    "### 3. Data prep for regression analysis "
   ]
  },
  {
   "cell_type": "code",
   "execution_count": 23,
   "id": "fe3c2ac3",
   "metadata": {
    "scrolled": false
   },
   "outputs": [
    {
     "data": {
      "image/png": "[encoded data removed]",
      "text/plain": [
       "<Figure size 640x480 with 1 Axes>"
      ]
     },
     "metadata": {},
     "output_type": "display_data"
    }
   ],
   "source": [
    "# Create a scatterplot using matplotlib for another look at how the chosen variables plot against each other.\n",
    "\n",
    "selected_data.plot(x = 'Moon Illuminated', y='Current_Speed_(knots)',style='o') # The style option creates a scatterplot; without it, we only have lines.\n",
    "plt.title('Moon Phase vs Current Speed')  \n",
    "plt.xlabel('Moon Phase')  \n",
    "plt.ylabel('Current Speed (Knots)')  \n",
    "plt.show()"
   ]
  },
  {
   "cell_type": "markdown",
   "id": "4596441d",
   "metadata": {},
   "source": [
    "## Hypothesis:\n",
    "\n",
    "### Underwater currents at each dive site will vary with the phases of the moon. Currents are expected to be strongest during full moon and new moon phases, while being weakest during intermediate phases."
   ]
  },
  {
   "cell_type": "code",
   "execution_count": 24,
   "id": "a2f9e5e9",
   "metadata": {},
   "outputs": [],
   "source": [
    "# Reshape the variables into NumPy arrays and put them into separate objects.\n",
    "\n",
    "X = selected_data['Moon Illuminated'].values.reshape(-1,1)\n",
    "y = selected_data['Current_Speed_(knots)'].values.reshape(-1,1)"
   ]
  },
  {
   "cell_type": "code",
   "execution_count": 25,
   "id": "e61c09c2",
   "metadata": {
    "scrolled": true
   },
   "outputs": [
    {
     "data": {
      "text/plain": [
       "array([[0.75],\n",
       "       [0.75],\n",
       "       [0.75],\n",
       "       ...,\n",
       "       [0.  ],\n",
       "       [0.  ],\n",
       "       [0.  ]])"
      ]
     },
     "execution_count": 25,
     "metadata": {},
     "output_type": "execute_result"
    }
   ],
   "source": [
    "X"
   ]
  },
  {
   "cell_type": "code",
   "execution_count": 26,
   "id": "3cb656bc",
   "metadata": {
    "scrolled": true
   },
   "outputs": [
    {
     "data": {
      "text/plain": [
       "array([[0.5],\n",
       "       [0.1],\n",
       "       [0.2],\n",
       "       ...,\n",
       "       [2.5],\n",
       "       [2.2],\n",
       "       [5. ]])"
      ]
     },
     "execution_count": 26,
     "metadata": {},
     "output_type": "execute_result"
    }
   ],
   "source": [
    "y"
   ]
  },
  {
   "cell_type": "code",
   "execution_count": 27,
   "id": "097212bc",
   "metadata": {
    "scrolled": true
   },
   "outputs": [],
   "source": [
    "# Split data into a training set and a test set.\n",
    "\n",
    "X_train, X_test, y_train, y_test = train_test_split(X, y, test_size=0.3, random_state=0)"
   ]
  },
  {
   "cell_type": "markdown",
   "id": "4facbed2",
   "metadata": {},
   "source": [
    "### 4. Regression analysis"
   ]
  },
  {
   "cell_type": "code",
   "execution_count": 28,
   "id": "4194dd98",
   "metadata": {},
   "outputs": [],
   "source": [
    "# Create a regression object.\n",
    "\n",
    "regression = LinearRegression()  # This is the regression object, which will be fit onto the training set."
   ]
  },
  {
   "cell_type": "code",
   "execution_count": 29,
   "id": "314a7d2f",
   "metadata": {},
   "outputs": [
    {
     "data": {
      "text/html": [
       "<style>#sk-container-id-1 {color: black;}#sk-container-id-1 pre{padding: 0;}#sk-container-id-1 div.sk-toggleable {background-color: white;}#sk-container-id-1 label.sk-toggleable__label {cursor: pointer;display: block;width: 100%;margin-bottom: 0;padding: 0.3em;box-sizing: border-box;text-align: center;}#sk-container-id-1 label.sk-toggleable__label-arrow:before {content: \"▸\";float: left;margin-right: 0.25em;color: #696969;}#sk-container-id-1 label.sk-toggleable__label-arrow:hover:before {color: black;}#sk-container-id-1 div.sk-estimator:hover label.sk-toggleable__label-arrow:before {color: black;}#sk-container-id-1 div.sk-toggleable__content {max-height: 0;max-width: 0;overflow: hidden;text-align: left;background-color: #f0f8ff;}#sk-container-id-1 div.sk-toggleable__content pre {margin: 0.2em;color: black;border-radius: 0.25em;background-color: #f0f8ff;}#sk-container-id-1 input.sk-toggleable__control:checked~div.sk-toggleable__content {max-height: 200px;max-width: 100%;overflow: auto;}#sk-container-id-1 input.sk-toggleable__control:checked~label.sk-toggleable__label-arrow:before {content: \"▾\";}#sk-container-id-1 div.sk-estimator input.sk-toggleable__control:checked~label.sk-toggleable__label {background-color: #d4ebff;}#sk-container-id-1 div.sk-label input.sk-toggleable__control:checked~label.sk-toggleable__label {background-color: #d4ebff;}#sk-container-id-1 input.sk-hidden--visually {border: 0;clip: rect(1px 1px 1px 1px);clip: rect(1px, 1px, 1px, 1px);height: 1px;margin: -1px;overflow: hidden;padding: 0;position: absolute;width: 1px;}#sk-container-id-1 div.sk-estimator {font-family: monospace;background-color: #f0f8ff;border: 1px dotted black;border-radius: 0.25em;box-sizing: border-box;margin-bottom: 0.5em;}#sk-container-id-1 div.sk-estimator:hover {background-color: #d4ebff;}#sk-container-id-1 div.sk-parallel-item::after {content: \"\";width: 100%;border-bottom: 1px solid gray;flex-grow: 1;}#sk-container-id-1 div.sk-label:hover label.sk-toggleable__label {background-color: #d4ebff;}#sk-container-id-1 div.sk-serial::before {content: \"\";position: absolute;border-left: 1px solid gray;box-sizing: border-box;top: 0;bottom: 0;left: 50%;z-index: 0;}#sk-container-id-1 div.sk-serial {display: flex;flex-direction: column;align-items: center;background-color: white;padding-right: 0.2em;padding-left: 0.2em;position: relative;}#sk-container-id-1 div.sk-item {position: relative;z-index: 1;}#sk-container-id-1 div.sk-parallel {display: flex;align-items: stretch;justify-content: center;background-color: white;position: relative;}#sk-container-id-1 div.sk-item::before, #sk-container-id-1 div.sk-parallel-item::before {content: \"\";position: absolute;border-left: 1px solid gray;box-sizing: border-box;top: 0;bottom: 0;left: 50%;z-index: -1;}#sk-container-id-1 div.sk-parallel-item {display: flex;flex-direction: column;z-index: 1;position: relative;background-color: white;}#sk-container-id-1 div.sk-parallel-item:first-child::after {align-self: flex-end;width: 50%;}#sk-container-id-1 div.sk-parallel-item:last-child::after {align-self: flex-start;width: 50%;}#sk-container-id-1 div.sk-parallel-item:only-child::after {width: 0;}#sk-container-id-1 div.sk-dashed-wrapped {border: 1px dashed gray;margin: 0 0.4em 0.5em 0.4em;box-sizing: border-box;padding-bottom: 0.4em;background-color: white;}#sk-container-id-1 div.sk-label label {font-family: monospace;font-weight: bold;display: inline-block;line-height: 1.2em;}#sk-container-id-1 div.sk-label-container {text-align: center;}#sk-container-id-1 div.sk-container {/* jupyter's `normalize.less` sets `[hidden] { display: none; }` but bootstrap.min.css set `[hidden] { display: none !important; }` so we also need the `!important` here to be able to override the default hidden behavior on the sphinx rendered scikit-learn.org. See: https://github.com/scikit-learn/scikit-learn/issues/21755 */display: inline-block !important;position: relative;}#sk-container-id-1 div.sk-text-repr-fallback {display: none;}</style><div id=\"sk-container-id-1\" class=\"sk-top-container\"><div class=\"sk-text-repr-fallback\"><pre>LinearRegression()</pre><b>In a Jupyter environment, please rerun this cell to show the HTML representation or trust the notebook. <br />On GitHub, the HTML representation is unable to render, please try loading this page with nbviewer.org.</b></div><div class=\"sk-container\" hidden><div class=\"sk-item\"><div class=\"sk-estimator sk-toggleable\"><input class=\"sk-toggleable__control sk-hidden--visually\" id=\"sk-estimator-id-1\" type=\"checkbox\" checked><label for=\"sk-estimator-id-1\" class=\"sk-toggleable__label sk-toggleable__label-arrow\">LinearRegression</label><div class=\"sk-toggleable__content\"><pre>LinearRegression()</pre></div></div></div></div></div>"
      ],
      "text/plain": [
       "LinearRegression()"
      ]
     },
     "execution_count": 29,
     "metadata": {},
     "output_type": "execute_result"
    }
   ],
   "source": [
    "# Fit the regression object onto the training set.\n",
    "\n",
    "regression.fit(X_train, y_train)"
   ]
  },
  {
   "cell_type": "code",
   "execution_count": 30,
   "id": "7f6acb1e",
   "metadata": {},
   "outputs": [],
   "source": [
    "# Predict the values of y using X.\n",
    "\n",
    "y_predicted = regression.predict(X_test)"
   ]
  },
  {
   "cell_type": "code",
   "execution_count": 31,
   "id": "af0e3664",
   "metadata": {},
   "outputs": [
    {
     "data": {
      "image/png": "[encoded data removed]",
      "text/plain": [
       "<Figure size 640x480 with 1 Axes>"
      ]
     },
     "metadata": {},
     "output_type": "display_data"
    }
   ],
   "source": [
    "# Create a plot that shows the regression line from the model on the test set.\n",
    "\n",
    "plot_test = plt\n",
    "plot_test.scatter(X_test, y_test, color='gray', s = 15)\n",
    "plot_test.plot(X_test, y_predicted, color='red', linewidth =3)\n",
    "plot_test.title('Moon Phase vs Current Speed (Test set)')\n",
    "plot_test.xlabel('Moon Phase')\n",
    "plot_test.ylabel('Current Speed (Knots)')\n",
    "plot_test.show()"
   ]
  },
  {
   "cell_type": "code",
   "execution_count": 32,
   "id": "59b0d382",
   "metadata": {},
   "outputs": [],
   "source": [
    "# Create objects that contain the model summary statistics.\n",
    "\n",
    "rmse = mean_squared_error(y_test, y_predicted) # This is the mean squared error\n",
    "r2 = r2_score(y_test, y_predicted) # This is the R2 score. "
   ]
  },
  {
   "cell_type": "code",
   "execution_count": 33,
   "id": "c1245dd6",
   "metadata": {},
   "outputs": [
    {
     "name": "stdout",
     "output_type": "stream",
     "text": [
      "Slope: [[-0.0727215]]\n",
      "Mean squared error:  4.601447017658061\n",
      "R2 score:  -0.0010362562029697653\n"
     ]
    }
   ],
   "source": [
    "# Print the model summary statistics. This is where you evaluate the performance of the model.\n",
    "\n",
    "print('Slope:' ,regression.coef_)\n",
    "print('Mean squared error: ', rmse)\n",
    "print('R2 score: ', r2)"
   ]
  },
  {
   "cell_type": "code",
   "execution_count": 34,
   "id": "99bbea4a",
   "metadata": {},
   "outputs": [
    {
     "data": {
      "text/plain": [
       "array([[2.62712691],\n",
       "       [2.58494844],\n",
       "       [2.61621869],\n",
       "       ...,\n",
       "       [2.56749528],\n",
       "       [2.56385921],\n",
       "       [2.62712691]])"
      ]
     },
     "execution_count": 34,
     "metadata": {},
     "output_type": "execute_result"
    }
   ],
   "source": [
    "y_predicted"
   ]
  },
  {
   "cell_type": "code",
   "execution_count": 35,
   "id": "4b5bab71",
   "metadata": {
    "scrolled": false
   },
   "outputs": [
    {
     "data": {
      "text/html": [
       "<div>\n",
       "<style scoped>\n",
       "    .dataframe tbody tr th:only-of-type {\n",
       "        vertical-align: middle;\n",
       "    }\n",
       "\n",
       "    .dataframe tbody tr th {\n",
       "        vertical-align: top;\n",
       "    }\n",
       "\n",
       "    .dataframe thead th {\n",
       "        text-align: right;\n",
       "    }\n",
       "</style>\n",
       "<table border=\"1\" class=\"dataframe\">\n",
       "  <thead>\n",
       "    <tr style=\"text-align: right;\">\n",
       "      <th></th>\n",
       "      <th>Actual</th>\n",
       "      <th>Predicted</th>\n",
       "    </tr>\n",
       "  </thead>\n",
       "  <tbody>\n",
       "    <tr>\n",
       "      <th>0</th>\n",
       "      <td>5.3</td>\n",
       "      <td>2.627127</td>\n",
       "    </tr>\n",
       "    <tr>\n",
       "      <th>1</th>\n",
       "      <td>4.1</td>\n",
       "      <td>2.584948</td>\n",
       "    </tr>\n",
       "    <tr>\n",
       "      <th>2</th>\n",
       "      <td>1.0</td>\n",
       "      <td>2.616219</td>\n",
       "    </tr>\n",
       "    <tr>\n",
       "      <th>3</th>\n",
       "      <td>1.7</td>\n",
       "      <td>2.600947</td>\n",
       "    </tr>\n",
       "    <tr>\n",
       "      <th>4</th>\n",
       "      <td>0.6</td>\n",
       "      <td>2.568950</td>\n",
       "    </tr>\n",
       "    <tr>\n",
       "      <th>5</th>\n",
       "      <td>3.0</td>\n",
       "      <td>2.613310</td>\n",
       "    </tr>\n",
       "    <tr>\n",
       "      <th>6</th>\n",
       "      <td>0.9</td>\n",
       "      <td>2.630036</td>\n",
       "    </tr>\n",
       "    <tr>\n",
       "      <th>7</th>\n",
       "      <td>1.7</td>\n",
       "      <td>2.588585</td>\n",
       "    </tr>\n",
       "    <tr>\n",
       "      <th>8</th>\n",
       "      <td>0.6</td>\n",
       "      <td>2.560950</td>\n",
       "    </tr>\n",
       "    <tr>\n",
       "      <th>9</th>\n",
       "      <td>5.3</td>\n",
       "      <td>2.617673</td>\n",
       "    </tr>\n",
       "    <tr>\n",
       "      <th>10</th>\n",
       "      <td>4.5</td>\n",
       "      <td>2.630036</td>\n",
       "    </tr>\n",
       "    <tr>\n",
       "      <th>11</th>\n",
       "      <td>0.2</td>\n",
       "      <td>2.583494</td>\n",
       "    </tr>\n",
       "    <tr>\n",
       "      <th>12</th>\n",
       "      <td>1.4</td>\n",
       "      <td>2.600220</td>\n",
       "    </tr>\n",
       "    <tr>\n",
       "      <th>13</th>\n",
       "      <td>4.3</td>\n",
       "      <td>2.632945</td>\n",
       "    </tr>\n",
       "    <tr>\n",
       "      <th>14</th>\n",
       "      <td>0.1</td>\n",
       "      <td>2.590766</td>\n",
       "    </tr>\n",
       "    <tr>\n",
       "      <th>15</th>\n",
       "      <td>7.1</td>\n",
       "      <td>2.576222</td>\n",
       "    </tr>\n",
       "    <tr>\n",
       "      <th>16</th>\n",
       "      <td>4.4</td>\n",
       "      <td>2.589312</td>\n",
       "    </tr>\n",
       "    <tr>\n",
       "      <th>17</th>\n",
       "      <td>2.1</td>\n",
       "      <td>2.574040</td>\n",
       "    </tr>\n",
       "    <tr>\n",
       "      <th>18</th>\n",
       "      <td>0.5</td>\n",
       "      <td>2.600220</td>\n",
       "    </tr>\n",
       "    <tr>\n",
       "      <th>19</th>\n",
       "      <td>1.1</td>\n",
       "      <td>2.574767</td>\n",
       "    </tr>\n",
       "    <tr>\n",
       "      <th>20</th>\n",
       "      <td>0.3</td>\n",
       "      <td>2.633672</td>\n",
       "    </tr>\n",
       "    <tr>\n",
       "      <th>21</th>\n",
       "      <td>3.4</td>\n",
       "      <td>2.592221</td>\n",
       "    </tr>\n",
       "    <tr>\n",
       "      <th>22</th>\n",
       "      <td>1.1</td>\n",
       "      <td>2.624218</td>\n",
       "    </tr>\n",
       "    <tr>\n",
       "      <th>23</th>\n",
       "      <td>4.8</td>\n",
       "      <td>2.632945</td>\n",
       "    </tr>\n",
       "    <tr>\n",
       "      <th>24</th>\n",
       "      <td>0.2</td>\n",
       "      <td>2.614764</td>\n",
       "    </tr>\n",
       "    <tr>\n",
       "      <th>25</th>\n",
       "      <td>7.0</td>\n",
       "      <td>2.626400</td>\n",
       "    </tr>\n",
       "    <tr>\n",
       "      <th>26</th>\n",
       "      <td>4.9</td>\n",
       "      <td>2.622764</td>\n",
       "    </tr>\n",
       "    <tr>\n",
       "      <th>27</th>\n",
       "      <td>0.1</td>\n",
       "      <td>2.605310</td>\n",
       "    </tr>\n",
       "    <tr>\n",
       "      <th>28</th>\n",
       "      <td>3.1</td>\n",
       "      <td>2.608219</td>\n",
       "    </tr>\n",
       "    <tr>\n",
       "      <th>29</th>\n",
       "      <td>2.5</td>\n",
       "      <td>2.623491</td>\n",
       "    </tr>\n",
       "  </tbody>\n",
       "</table>\n",
       "</div>"
      ],
      "text/plain": [
       "    Actual  Predicted\n",
       "0      5.3   2.627127\n",
       "1      4.1   2.584948\n",
       "2      1.0   2.616219\n",
       "3      1.7   2.600947\n",
       "4      0.6   2.568950\n",
       "5      3.0   2.613310\n",
       "6      0.9   2.630036\n",
       "7      1.7   2.588585\n",
       "8      0.6   2.560950\n",
       "9      5.3   2.617673\n",
       "10     4.5   2.630036\n",
       "11     0.2   2.583494\n",
       "12     1.4   2.600220\n",
       "13     4.3   2.632945\n",
       "14     0.1   2.590766\n",
       "15     7.1   2.576222\n",
       "16     4.4   2.589312\n",
       "17     2.1   2.574040\n",
       "18     0.5   2.600220\n",
       "19     1.1   2.574767\n",
       "20     0.3   2.633672\n",
       "21     3.4   2.592221\n",
       "22     1.1   2.624218\n",
       "23     4.8   2.632945\n",
       "24     0.2   2.614764\n",
       "25     7.0   2.626400\n",
       "26     4.9   2.622764\n",
       "27     0.1   2.605310\n",
       "28     3.1   2.608219\n",
       "29     2.5   2.623491"
      ]
     },
     "execution_count": 35,
     "metadata": {},
     "output_type": "execute_result"
    }
   ],
   "source": [
    "# Create a dataframe comparing the actual and predicted values of y.\n",
    "\n",
    "data = pd.DataFrame({'Actual': y_test.flatten(), 'Predicted': y_predicted.flatten()})\n",
    "data.head(30)"
   ]
  },
  {
   "cell_type": "markdown",
   "id": "09c6b6dc",
   "metadata": {},
   "source": [
    "##### Compare how the regression fits the training set"
   ]
  },
  {
   "cell_type": "code",
   "execution_count": 36,
   "id": "205dbef1",
   "metadata": {},
   "outputs": [],
   "source": [
    "# Predict.\n",
    "\n",
    "y_predicted_train = regression.predict(X_train) # This is predicting X_train!"
   ]
  },
  {
   "cell_type": "code",
   "execution_count": 37,
   "id": "13a06b80",
   "metadata": {},
   "outputs": [],
   "source": [
    "rmse = mean_squared_error(y_train, y_predicted_train)\n",
    "r2 = r2_score(y_train, y_predicted_train)"
   ]
  },
  {
   "cell_type": "code",
   "execution_count": 38,
   "id": "c271b20f",
   "metadata": {},
   "outputs": [
    {
     "name": "stdout",
     "output_type": "stream",
     "text": [
      "Slope: [[-0.0727215]]\n",
      "Mean squared error:  4.65138520654172\n",
      "R2 score:  0.0001419559146529359\n"
     ]
    }
   ],
   "source": [
    "print('Slope:' ,regression.coef_)\n",
    "print('Mean squared error: ', rmse)\n",
    "print('R2 score: ', r2)"
   ]
  },
  {
   "cell_type": "code",
   "execution_count": 39,
   "id": "b631652a",
   "metadata": {
    "scrolled": true
   },
   "outputs": [
    {
     "data": {
      "image/png": "[encoded data removed]",
      "text/plain": [
       "<Figure size 640x480 with 1 Axes>"
      ]
     },
     "metadata": {},
     "output_type": "display_data"
    }
   ],
   "source": [
    "# Visualizing the training set results.\n",
    "\n",
    "plot_test = plt\n",
    "plot_test.scatter(X_train, y_train, color='green', s = 15)\n",
    "plot_test.plot(X_train, y_predicted_train, color='red', linewidth =3)\n",
    "plot_test.title('Moon Phase vs Current Speed (Train set)')\n",
    "plot_test.xlabel('Moon Phase')\n",
    "plot_test.ylabel('Current Speed (Knots)')\n",
    "plot_test.show()"
   ]
  },
  {
   "cell_type": "markdown",
   "id": "6bb2742d",
   "metadata": {},
   "source": [
    "### 5. Observations"
   ]
  },
  {
   "cell_type": "markdown",
   "id": "77f39651",
   "metadata": {},
   "source": [
    "#### Based on the results, the model's R2 score of approximately 0.001 indicates that the model's fit is not very strong, and the negative value suggests that the model may not be a good fit for the data. Here are the two key reasons why I believe the model's fit might not be strong in this case:\n",
    "\n",
    "#### 1. Non-Linear Relationship: The relationship between \"Moon Illuminated\" and \"Current_Speed_(knots)\" is not linear. Instead, it follows a nonlinear pattern where the currents are strongest when the moon phase is closest to 0 or 1, and weakest in the middle. In such cases, a simple linear regression might not be the best model to capture the relationship accurately.\n",
    "\n",
    "#### 2. Dive Site Variability: The currents' behavior is influenced differently at each dive site during different moon phases. Treating all the dive sites as one homogeneous dataset might not capture the variability and unique patterns present at each site.\n",
    "\n",
    "#### Given these considerations, individual regression analyses for each dive site could potentially yield more meaningful and accurate results. By analyzing each dive site separately, we would be able to account for site-specific patterns and variations in the relationship between moon phase and current speed."
   ]
  },
  {
   "cell_type": "markdown",
   "id": "8c5e931e",
   "metadata": {},
   "source": [
    "### Bonus: performance improvement after evaluating individual dive sites"
   ]
  },
  {
   "cell_type": "code",
   "execution_count": 40,
   "id": "30d513f8",
   "metadata": {},
   "outputs": [
    {
     "name": "stdout",
     "output_type": "stream",
     "text": [
      "['Alki' 'Deception Pass' 'Salt Creek' 'Tacoma Narrows']\n"
     ]
    }
   ],
   "source": [
    "# Get the unique dive site names\n",
    "unique_dive_sites = selected_data['Dive_Site'].unique()\n",
    "\n",
    "# Print the unique dive site names\n",
    "print(unique_dive_sites)"
   ]
  },
  {
   "cell_type": "code",
   "execution_count": 41,
   "id": "c67e6127",
   "metadata": {},
   "outputs": [],
   "source": [
    "# Create separate DataFrames for each dive site\n",
    "alki_data = selected_data[selected_data['Dive_Site'] == 'Alki'].copy()\n",
    "tacoma_data = selected_data[selected_data['Dive_Site'] == 'Tacoma Narrows'].copy()\n",
    "deception_data = selected_data[selected_data['Dive_Site'] == 'Deception Pass'].copy()\n",
    "saltcreek_data = selected_data[selected_data['Dive_Site'] == 'Salt Creek'].copy()"
   ]
  },
  {
   "cell_type": "code",
   "execution_count": 42,
   "id": "3515edd3",
   "metadata": {},
   "outputs": [
    {
     "data": {
      "text/html": [
       "<div>\n",
       "<style scoped>\n",
       "    .dataframe tbody tr th:only-of-type {\n",
       "        vertical-align: middle;\n",
       "    }\n",
       "\n",
       "    .dataframe tbody tr th {\n",
       "        vertical-align: top;\n",
       "    }\n",
       "\n",
       "    .dataframe thead th {\n",
       "        text-align: right;\n",
       "    }\n",
       "</style>\n",
       "<table border=\"1\" class=\"dataframe\">\n",
       "  <thead>\n",
       "    <tr style=\"text-align: right;\">\n",
       "      <th></th>\n",
       "      <th>Dive_Site</th>\n",
       "      <th>Current_Speed_(knots)</th>\n",
       "      <th>Moon Illuminated</th>\n",
       "    </tr>\n",
       "  </thead>\n",
       "  <tbody>\n",
       "    <tr>\n",
       "      <th>4140</th>\n",
       "      <td>Deception Pass</td>\n",
       "      <td>4.0</td>\n",
       "      <td>0.75</td>\n",
       "    </tr>\n",
       "    <tr>\n",
       "      <th>4143</th>\n",
       "      <td>Deception Pass</td>\n",
       "      <td>5.3</td>\n",
       "      <td>0.75</td>\n",
       "    </tr>\n",
       "    <tr>\n",
       "      <th>4145</th>\n",
       "      <td>Deception Pass</td>\n",
       "      <td>2.9</td>\n",
       "      <td>0.75</td>\n",
       "    </tr>\n",
       "    <tr>\n",
       "      <th>4149</th>\n",
       "      <td>Deception Pass</td>\n",
       "      <td>3.9</td>\n",
       "      <td>0.75</td>\n",
       "    </tr>\n",
       "    <tr>\n",
       "      <th>4152</th>\n",
       "      <td>Deception Pass</td>\n",
       "      <td>3.5</td>\n",
       "      <td>0.67</td>\n",
       "    </tr>\n",
       "    <tr>\n",
       "      <th>...</th>\n",
       "      <td>...</td>\n",
       "      <td>...</td>\n",
       "      <td>...</td>\n",
       "    </tr>\n",
       "    <tr>\n",
       "      <th>8367</th>\n",
       "      <td>Deception Pass</td>\n",
       "      <td>7.7</td>\n",
       "      <td>0.01</td>\n",
       "    </tr>\n",
       "    <tr>\n",
       "      <th>8370</th>\n",
       "      <td>Deception Pass</td>\n",
       "      <td>6.9</td>\n",
       "      <td>0.00</td>\n",
       "    </tr>\n",
       "    <tr>\n",
       "      <th>8373</th>\n",
       "      <td>Deception Pass</td>\n",
       "      <td>5.7</td>\n",
       "      <td>0.00</td>\n",
       "    </tr>\n",
       "    <tr>\n",
       "      <th>8376</th>\n",
       "      <td>Deception Pass</td>\n",
       "      <td>3.2</td>\n",
       "      <td>0.00</td>\n",
       "    </tr>\n",
       "    <tr>\n",
       "      <th>8379</th>\n",
       "      <td>Deception Pass</td>\n",
       "      <td>7.5</td>\n",
       "      <td>0.00</td>\n",
       "    </tr>\n",
       "  </tbody>\n",
       "</table>\n",
       "<p>1414 rows × 3 columns</p>\n",
       "</div>"
      ],
      "text/plain": [
       "           Dive_Site  Current_Speed_(knots)  Moon Illuminated\n",
       "4140  Deception Pass                    4.0              0.75\n",
       "4143  Deception Pass                    5.3              0.75\n",
       "4145  Deception Pass                    2.9              0.75\n",
       "4149  Deception Pass                    3.9              0.75\n",
       "4152  Deception Pass                    3.5              0.67\n",
       "...              ...                    ...               ...\n",
       "8367  Deception Pass                    7.7              0.01\n",
       "8370  Deception Pass                    6.9              0.00\n",
       "8373  Deception Pass                    5.7              0.00\n",
       "8376  Deception Pass                    3.2              0.00\n",
       "8379  Deception Pass                    7.5              0.00\n",
       "\n",
       "[1414 rows x 3 columns]"
      ]
     },
     "execution_count": 42,
     "metadata": {},
     "output_type": "execute_result"
    }
   ],
   "source": [
    "deception_data"
   ]
  },
  {
   "cell_type": "code",
   "execution_count": 43,
   "id": "37e8155f",
   "metadata": {},
   "outputs": [
    {
     "data": {
      "text/html": [
       "<div>\n",
       "<style scoped>\n",
       "    .dataframe tbody tr th:only-of-type {\n",
       "        vertical-align: middle;\n",
       "    }\n",
       "\n",
       "    .dataframe tbody tr th {\n",
       "        vertical-align: top;\n",
       "    }\n",
       "\n",
       "    .dataframe thead th {\n",
       "        text-align: right;\n",
       "    }\n",
       "</style>\n",
       "<table border=\"1\" class=\"dataframe\">\n",
       "  <thead>\n",
       "    <tr style=\"text-align: right;\">\n",
       "      <th></th>\n",
       "      <th>Dive_Site</th>\n",
       "      <th>Current_Speed_(knots)</th>\n",
       "      <th>Moon Illuminated</th>\n",
       "    </tr>\n",
       "  </thead>\n",
       "  <tbody>\n",
       "    <tr>\n",
       "      <th>0</th>\n",
       "      <td>Alki</td>\n",
       "      <td>0.5</td>\n",
       "      <td>0.75</td>\n",
       "    </tr>\n",
       "    <tr>\n",
       "      <th>3</th>\n",
       "      <td>Alki</td>\n",
       "      <td>0.1</td>\n",
       "      <td>0.75</td>\n",
       "    </tr>\n",
       "    <tr>\n",
       "      <th>6</th>\n",
       "      <td>Alki</td>\n",
       "      <td>0.2</td>\n",
       "      <td>0.75</td>\n",
       "    </tr>\n",
       "    <tr>\n",
       "      <th>11</th>\n",
       "      <td>Alki</td>\n",
       "      <td>0.4</td>\n",
       "      <td>0.67</td>\n",
       "    </tr>\n",
       "    <tr>\n",
       "      <th>14</th>\n",
       "      <td>Alki</td>\n",
       "      <td>0.1</td>\n",
       "      <td>0.67</td>\n",
       "    </tr>\n",
       "    <tr>\n",
       "      <th>...</th>\n",
       "      <td>...</td>\n",
       "      <td>...</td>\n",
       "      <td>...</td>\n",
       "    </tr>\n",
       "    <tr>\n",
       "      <th>4124</th>\n",
       "      <td>Alki</td>\n",
       "      <td>0.7</td>\n",
       "      <td>0.01</td>\n",
       "    </tr>\n",
       "    <tr>\n",
       "      <th>4127</th>\n",
       "      <td>Alki</td>\n",
       "      <td>0.3</td>\n",
       "      <td>0.00</td>\n",
       "    </tr>\n",
       "    <tr>\n",
       "      <th>4130</th>\n",
       "      <td>Alki</td>\n",
       "      <td>0.2</td>\n",
       "      <td>0.00</td>\n",
       "    </tr>\n",
       "    <tr>\n",
       "      <th>4133</th>\n",
       "      <td>Alki</td>\n",
       "      <td>0.2</td>\n",
       "      <td>0.00</td>\n",
       "    </tr>\n",
       "    <tr>\n",
       "      <th>4136</th>\n",
       "      <td>Alki</td>\n",
       "      <td>0.7</td>\n",
       "      <td>0.00</td>\n",
       "    </tr>\n",
       "  </tbody>\n",
       "</table>\n",
       "<p>1278 rows × 3 columns</p>\n",
       "</div>"
      ],
      "text/plain": [
       "     Dive_Site  Current_Speed_(knots)  Moon Illuminated\n",
       "0         Alki                    0.5              0.75\n",
       "3         Alki                    0.1              0.75\n",
       "6         Alki                    0.2              0.75\n",
       "11        Alki                    0.4              0.67\n",
       "14        Alki                    0.1              0.67\n",
       "...        ...                    ...               ...\n",
       "4124      Alki                    0.7              0.01\n",
       "4127      Alki                    0.3              0.00\n",
       "4130      Alki                    0.2              0.00\n",
       "4133      Alki                    0.2              0.00\n",
       "4136      Alki                    0.7              0.00\n",
       "\n",
       "[1278 rows x 3 columns]"
      ]
     },
     "execution_count": 43,
     "metadata": {},
     "output_type": "execute_result"
    }
   ],
   "source": [
    "alki_data"
   ]
  },
  {
   "cell_type": "code",
   "execution_count": 44,
   "id": "ca31d6e4",
   "metadata": {},
   "outputs": [
    {
     "data": {
      "text/html": [
       "<div>\n",
       "<style scoped>\n",
       "    .dataframe tbody tr th:only-of-type {\n",
       "        vertical-align: middle;\n",
       "    }\n",
       "\n",
       "    .dataframe tbody tr th {\n",
       "        vertical-align: top;\n",
       "    }\n",
       "\n",
       "    .dataframe thead th {\n",
       "        text-align: right;\n",
       "    }\n",
       "</style>\n",
       "<table border=\"1\" class=\"dataframe\">\n",
       "  <thead>\n",
       "    <tr style=\"text-align: right;\">\n",
       "      <th></th>\n",
       "      <th>Dive_Site</th>\n",
       "      <th>Current_Speed_(knots)</th>\n",
       "      <th>Moon Illuminated</th>\n",
       "    </tr>\n",
       "  </thead>\n",
       "  <tbody>\n",
       "    <tr>\n",
       "      <th>12385</th>\n",
       "      <td>Tacoma Narrows</td>\n",
       "      <td>4.5</td>\n",
       "      <td>0.75</td>\n",
       "    </tr>\n",
       "    <tr>\n",
       "      <th>12388</th>\n",
       "      <td>Tacoma Narrows</td>\n",
       "      <td>3.0</td>\n",
       "      <td>0.75</td>\n",
       "    </tr>\n",
       "    <tr>\n",
       "      <th>12391</th>\n",
       "      <td>Tacoma Narrows</td>\n",
       "      <td>1.9</td>\n",
       "      <td>0.75</td>\n",
       "    </tr>\n",
       "    <tr>\n",
       "      <th>12394</th>\n",
       "      <td>Tacoma Narrows</td>\n",
       "      <td>3.5</td>\n",
       "      <td>0.67</td>\n",
       "    </tr>\n",
       "    <tr>\n",
       "      <th>12397</th>\n",
       "      <td>Tacoma Narrows</td>\n",
       "      <td>4.3</td>\n",
       "      <td>0.67</td>\n",
       "    </tr>\n",
       "    <tr>\n",
       "      <th>...</th>\n",
       "      <td>...</td>\n",
       "      <td>...</td>\n",
       "      <td>...</td>\n",
       "    </tr>\n",
       "    <tr>\n",
       "      <th>16612</th>\n",
       "      <td>Tacoma Narrows</td>\n",
       "      <td>4.8</td>\n",
       "      <td>0.01</td>\n",
       "    </tr>\n",
       "    <tr>\n",
       "      <th>16615</th>\n",
       "      <td>Tacoma Narrows</td>\n",
       "      <td>5.3</td>\n",
       "      <td>0.00</td>\n",
       "    </tr>\n",
       "    <tr>\n",
       "      <th>16618</th>\n",
       "      <td>Tacoma Narrows</td>\n",
       "      <td>2.5</td>\n",
       "      <td>0.00</td>\n",
       "    </tr>\n",
       "    <tr>\n",
       "      <th>16621</th>\n",
       "      <td>Tacoma Narrows</td>\n",
       "      <td>2.2</td>\n",
       "      <td>0.00</td>\n",
       "    </tr>\n",
       "    <tr>\n",
       "      <th>16624</th>\n",
       "      <td>Tacoma Narrows</td>\n",
       "      <td>5.0</td>\n",
       "      <td>0.00</td>\n",
       "    </tr>\n",
       "  </tbody>\n",
       "</table>\n",
       "<p>1414 rows × 3 columns</p>\n",
       "</div>"
      ],
      "text/plain": [
       "            Dive_Site  Current_Speed_(knots)  Moon Illuminated\n",
       "12385  Tacoma Narrows                    4.5              0.75\n",
       "12388  Tacoma Narrows                    3.0              0.75\n",
       "12391  Tacoma Narrows                    1.9              0.75\n",
       "12394  Tacoma Narrows                    3.5              0.67\n",
       "12397  Tacoma Narrows                    4.3              0.67\n",
       "...               ...                    ...               ...\n",
       "16612  Tacoma Narrows                    4.8              0.01\n",
       "16615  Tacoma Narrows                    5.3              0.00\n",
       "16618  Tacoma Narrows                    2.5              0.00\n",
       "16621  Tacoma Narrows                    2.2              0.00\n",
       "16624  Tacoma Narrows                    5.0              0.00\n",
       "\n",
       "[1414 rows x 3 columns]"
      ]
     },
     "execution_count": 44,
     "metadata": {},
     "output_type": "execute_result"
    }
   ],
   "source": [
    "tacoma_data"
   ]
  },
  {
   "cell_type": "code",
   "execution_count": 45,
   "id": "b4da44ee",
   "metadata": {},
   "outputs": [
    {
     "data": {
      "text/html": [
       "<div>\n",
       "<style scoped>\n",
       "    .dataframe tbody tr th:only-of-type {\n",
       "        vertical-align: middle;\n",
       "    }\n",
       "\n",
       "    .dataframe tbody tr th {\n",
       "        vertical-align: top;\n",
       "    }\n",
       "\n",
       "    .dataframe thead th {\n",
       "        text-align: right;\n",
       "    }\n",
       "</style>\n",
       "<table border=\"1\" class=\"dataframe\">\n",
       "  <thead>\n",
       "    <tr style=\"text-align: right;\">\n",
       "      <th></th>\n",
       "      <th>Dive_Site</th>\n",
       "      <th>Current_Speed_(knots)</th>\n",
       "      <th>Moon Illuminated</th>\n",
       "    </tr>\n",
       "  </thead>\n",
       "  <tbody>\n",
       "    <tr>\n",
       "      <th>8383</th>\n",
       "      <td>Salt Creek</td>\n",
       "      <td>0.7</td>\n",
       "      <td>0.75</td>\n",
       "    </tr>\n",
       "    <tr>\n",
       "      <th>8386</th>\n",
       "      <td>Salt Creek</td>\n",
       "      <td>1.0</td>\n",
       "      <td>0.75</td>\n",
       "    </tr>\n",
       "    <tr>\n",
       "      <th>8389</th>\n",
       "      <td>Salt Creek</td>\n",
       "      <td>0.1</td>\n",
       "      <td>0.75</td>\n",
       "    </tr>\n",
       "    <tr>\n",
       "      <th>8391</th>\n",
       "      <td>Salt Creek</td>\n",
       "      <td>0.8</td>\n",
       "      <td>0.67</td>\n",
       "    </tr>\n",
       "    <tr>\n",
       "      <th>8393</th>\n",
       "      <td>Salt Creek</td>\n",
       "      <td>0.4</td>\n",
       "      <td>0.67</td>\n",
       "    </tr>\n",
       "    <tr>\n",
       "      <th>...</th>\n",
       "      <td>...</td>\n",
       "      <td>...</td>\n",
       "      <td>...</td>\n",
       "    </tr>\n",
       "    <tr>\n",
       "      <th>12369</th>\n",
       "      <td>Salt Creek</td>\n",
       "      <td>2.0</td>\n",
       "      <td>0.01</td>\n",
       "    </tr>\n",
       "    <tr>\n",
       "      <th>12372</th>\n",
       "      <td>Salt Creek</td>\n",
       "      <td>1.5</td>\n",
       "      <td>0.00</td>\n",
       "    </tr>\n",
       "    <tr>\n",
       "      <th>12376</th>\n",
       "      <td>Salt Creek</td>\n",
       "      <td>1.1</td>\n",
       "      <td>0.00</td>\n",
       "    </tr>\n",
       "    <tr>\n",
       "      <th>12379</th>\n",
       "      <td>Salt Creek</td>\n",
       "      <td>0.1</td>\n",
       "      <td>0.00</td>\n",
       "    </tr>\n",
       "    <tr>\n",
       "      <th>12381</th>\n",
       "      <td>Salt Creek</td>\n",
       "      <td>2.1</td>\n",
       "      <td>0.00</td>\n",
       "    </tr>\n",
       "  </tbody>\n",
       "</table>\n",
       "<p>1340 rows × 3 columns</p>\n",
       "</div>"
      ],
      "text/plain": [
       "        Dive_Site  Current_Speed_(knots)  Moon Illuminated\n",
       "8383   Salt Creek                    0.7              0.75\n",
       "8386   Salt Creek                    1.0              0.75\n",
       "8389   Salt Creek                    0.1              0.75\n",
       "8391   Salt Creek                    0.8              0.67\n",
       "8393   Salt Creek                    0.4              0.67\n",
       "...           ...                    ...               ...\n",
       "12369  Salt Creek                    2.0              0.01\n",
       "12372  Salt Creek                    1.5              0.00\n",
       "12376  Salt Creek                    1.1              0.00\n",
       "12379  Salt Creek                    0.1              0.00\n",
       "12381  Salt Creek                    2.1              0.00\n",
       "\n",
       "[1340 rows x 3 columns]"
      ]
     },
     "execution_count": 45,
     "metadata": {},
     "output_type": "execute_result"
    }
   ],
   "source": [
    "saltcreek_data"
   ]
  },
  {
   "cell_type": "code",
   "execution_count": 46,
   "id": "31367b12",
   "metadata": {},
   "outputs": [
    {
     "data": {
      "image/png": "[encoded data removed]",
      "text/plain": [
       "<Figure size 640x480 with 1 Axes>"
      ]
     },
     "metadata": {},
     "output_type": "display_data"
    }
   ],
   "source": [
    "# Create a scatterplot using matplotlib for another look at how the chosen variables plot against each other.\n",
    "\n",
    "deception_data.plot(x = 'Moon Illuminated', y='Current_Speed_(knots)',style='o') # The style option creates a scatterplot; without it, we only have lines.\n",
    "plt.title('Deception Pass - Moon Phase vs Current Speed')  \n",
    "plt.xlabel('Moon Phase')  \n",
    "plt.ylabel('Current Speed (Knots)')  \n",
    "plt.show()"
   ]
  },
  {
   "cell_type": "code",
   "execution_count": 47,
   "id": "f970768a",
   "metadata": {},
   "outputs": [],
   "source": [
    "# Reshape the variables into NumPy arrays and put them into separate objects.\n",
    "\n",
    "X = deception_data['Moon Illuminated'].values.reshape(-1,1)\n",
    "y = deception_data['Current_Speed_(knots)'].values.reshape(-1,1)"
   ]
  },
  {
   "cell_type": "code",
   "execution_count": 48,
   "id": "49d5a37c",
   "metadata": {},
   "outputs": [
    {
     "data": {
      "text/plain": [
       "array([[0.75],\n",
       "       [0.75],\n",
       "       [0.75],\n",
       "       ...,\n",
       "       [0.  ],\n",
       "       [0.  ],\n",
       "       [0.  ]])"
      ]
     },
     "execution_count": 48,
     "metadata": {},
     "output_type": "execute_result"
    }
   ],
   "source": [
    "X"
   ]
  },
  {
   "cell_type": "code",
   "execution_count": 49,
   "id": "58c75610",
   "metadata": {},
   "outputs": [
    {
     "data": {
      "text/plain": [
       "array([[4. ],\n",
       "       [5.3],\n",
       "       [2.9],\n",
       "       ...,\n",
       "       [5.7],\n",
       "       [3.2],\n",
       "       [7.5]])"
      ]
     },
     "execution_count": 49,
     "metadata": {},
     "output_type": "execute_result"
    }
   ],
   "source": [
    "y"
   ]
  },
  {
   "cell_type": "code",
   "execution_count": 50,
   "id": "a136ea98",
   "metadata": {
    "scrolled": true
   },
   "outputs": [],
   "source": [
    "# Split data into a training set and a test set.\n",
    "\n",
    "X_train, X_test, y_train, y_test = train_test_split(X, y, test_size=0.3, random_state=0)"
   ]
  },
  {
   "cell_type": "markdown",
   "id": "90a5849d",
   "metadata": {},
   "source": [
    "### Regression analysis"
   ]
  },
  {
   "cell_type": "code",
   "execution_count": 51,
   "id": "3a400e9a",
   "metadata": {},
   "outputs": [],
   "source": [
    "# Create a regression object.\n",
    "\n",
    "regression = LinearRegression()  # This is the regression object, which will be fit onto the training set."
   ]
  },
  {
   "cell_type": "code",
   "execution_count": 52,
   "id": "ddfe478f",
   "metadata": {},
   "outputs": [
    {
     "data": {
      "text/html": [
       "<style>#sk-container-id-2 {color: black;}#sk-container-id-2 pre{padding: 0;}#sk-container-id-2 div.sk-toggleable {background-color: white;}#sk-container-id-2 label.sk-toggleable__label {cursor: pointer;display: block;width: 100%;margin-bottom: 0;padding: 0.3em;box-sizing: border-box;text-align: center;}#sk-container-id-2 label.sk-toggleable__label-arrow:before {content: \"▸\";float: left;margin-right: 0.25em;color: #696969;}#sk-container-id-2 label.sk-toggleable__label-arrow:hover:before {color: black;}#sk-container-id-2 div.sk-estimator:hover label.sk-toggleable__label-arrow:before {color: black;}#sk-container-id-2 div.sk-toggleable__content {max-height: 0;max-width: 0;overflow: hidden;text-align: left;background-color: #f0f8ff;}#sk-container-id-2 div.sk-toggleable__content pre {margin: 0.2em;color: black;border-radius: 0.25em;background-color: #f0f8ff;}#sk-container-id-2 input.sk-toggleable__control:checked~div.sk-toggleable__content {max-height: 200px;max-width: 100%;overflow: auto;}#sk-container-id-2 input.sk-toggleable__control:checked~label.sk-toggleable__label-arrow:before {content: \"▾\";}#sk-container-id-2 div.sk-estimator input.sk-toggleable__control:checked~label.sk-toggleable__label {background-color: #d4ebff;}#sk-container-id-2 div.sk-label input.sk-toggleable__control:checked~label.sk-toggleable__label {background-color: #d4ebff;}#sk-container-id-2 input.sk-hidden--visually {border: 0;clip: rect(1px 1px 1px 1px);clip: rect(1px, 1px, 1px, 1px);height: 1px;margin: -1px;overflow: hidden;padding: 0;position: absolute;width: 1px;}#sk-container-id-2 div.sk-estimator {font-family: monospace;background-color: #f0f8ff;border: 1px dotted black;border-radius: 0.25em;box-sizing: border-box;margin-bottom: 0.5em;}#sk-container-id-2 div.sk-estimator:hover {background-color: #d4ebff;}#sk-container-id-2 div.sk-parallel-item::after {content: \"\";width: 100%;border-bottom: 1px solid gray;flex-grow: 1;}#sk-container-id-2 div.sk-label:hover label.sk-toggleable__label {background-color: #d4ebff;}#sk-container-id-2 div.sk-serial::before {content: \"\";position: absolute;border-left: 1px solid gray;box-sizing: border-box;top: 0;bottom: 0;left: 50%;z-index: 0;}#sk-container-id-2 div.sk-serial {display: flex;flex-direction: column;align-items: center;background-color: white;padding-right: 0.2em;padding-left: 0.2em;position: relative;}#sk-container-id-2 div.sk-item {position: relative;z-index: 1;}#sk-container-id-2 div.sk-parallel {display: flex;align-items: stretch;justify-content: center;background-color: white;position: relative;}#sk-container-id-2 div.sk-item::before, #sk-container-id-2 div.sk-parallel-item::before {content: \"\";position: absolute;border-left: 1px solid gray;box-sizing: border-box;top: 0;bottom: 0;left: 50%;z-index: -1;}#sk-container-id-2 div.sk-parallel-item {display: flex;flex-direction: column;z-index: 1;position: relative;background-color: white;}#sk-container-id-2 div.sk-parallel-item:first-child::after {align-self: flex-end;width: 50%;}#sk-container-id-2 div.sk-parallel-item:last-child::after {align-self: flex-start;width: 50%;}#sk-container-id-2 div.sk-parallel-item:only-child::after {width: 0;}#sk-container-id-2 div.sk-dashed-wrapped {border: 1px dashed gray;margin: 0 0.4em 0.5em 0.4em;box-sizing: border-box;padding-bottom: 0.4em;background-color: white;}#sk-container-id-2 div.sk-label label {font-family: monospace;font-weight: bold;display: inline-block;line-height: 1.2em;}#sk-container-id-2 div.sk-label-container {text-align: center;}#sk-container-id-2 div.sk-container {/* jupyter's `normalize.less` sets `[hidden] { display: none; }` but bootstrap.min.css set `[hidden] { display: none !important; }` so we also need the `!important` here to be able to override the default hidden behavior on the sphinx rendered scikit-learn.org. See: https://github.com/scikit-learn/scikit-learn/issues/21755 */display: inline-block !important;position: relative;}#sk-container-id-2 div.sk-text-repr-fallback {display: none;}</style><div id=\"sk-container-id-2\" class=\"sk-top-container\"><div class=\"sk-text-repr-fallback\"><pre>LinearRegression()</pre><b>In a Jupyter environment, please rerun this cell to show the HTML representation or trust the notebook. <br />On GitHub, the HTML representation is unable to render, please try loading this page with nbviewer.org.</b></div><div class=\"sk-container\" hidden><div class=\"sk-item\"><div class=\"sk-estimator sk-toggleable\"><input class=\"sk-toggleable__control sk-hidden--visually\" id=\"sk-estimator-id-2\" type=\"checkbox\" checked><label for=\"sk-estimator-id-2\" class=\"sk-toggleable__label sk-toggleable__label-arrow\">LinearRegression</label><div class=\"sk-toggleable__content\"><pre>LinearRegression()</pre></div></div></div></div></div>"
      ],
      "text/plain": [
       "LinearRegression()"
      ]
     },
     "execution_count": 52,
     "metadata": {},
     "output_type": "execute_result"
    }
   ],
   "source": [
    "# Fit the regression object onto the training set.\n",
    "\n",
    "regression.fit(X_train, y_train)"
   ]
  },
  {
   "cell_type": "code",
   "execution_count": 53,
   "id": "f3f13bb7",
   "metadata": {},
   "outputs": [],
   "source": [
    "# Predict the values of y using X.\n",
    "\n",
    "y_predicted = regression.predict(X_test)"
   ]
  },
  {
   "cell_type": "code",
   "execution_count": 54,
   "id": "c162a8ee",
   "metadata": {},
   "outputs": [
    {
     "data": {
      "image/png": "[encoded data removed]",
      "text/plain": [
       "<Figure size 640x480 with 1 Axes>"
      ]
     },
     "metadata": {},
     "output_type": "display_data"
    }
   ],
   "source": [
    "# Create a plot that shows the regression line from the model on the test set.\n",
    "\n",
    "plot_test = plt\n",
    "plot_test.scatter(X_test, y_test, color='gray', s = 15)\n",
    "plot_test.plot(X_test, y_predicted, color='red', linewidth =3)\n",
    "plot_test.title('Deception Pass - Moon Phase vs Current Speed (Test set)')\n",
    "plot_test.xlabel('Moon Phase')\n",
    "plot_test.ylabel('Current Speed (Knots)')\n",
    "plot_test.show()"
   ]
  },
  {
   "cell_type": "code",
   "execution_count": 55,
   "id": "25d2b2bb",
   "metadata": {},
   "outputs": [],
   "source": [
    "# Create objects that contain the model summary statistics.\n",
    "\n",
    "rmse = mean_squared_error(y_test, y_predicted) # This is the mean squared error\n",
    "r2 = r2_score(y_test, y_predicted) # This is the R2 score. "
   ]
  },
  {
   "cell_type": "code",
   "execution_count": 56,
   "id": "9d23429b",
   "metadata": {},
   "outputs": [
    {
     "name": "stdout",
     "output_type": "stream",
     "text": [
      "Slope: [[-0.08432074]]\n",
      "Mean squared error:  1.9904508649364645\n",
      "R2 score:  -0.0035201620546367884\n"
     ]
    }
   ],
   "source": [
    "# Print the model summary statistics. This is where you evaluate the performance of the model.\n",
    "\n",
    "print('Slope:' ,regression.coef_)\n",
    "print('Mean squared error: ', rmse)\n",
    "print('R2 score: ', r2)"
   ]
  },
  {
   "cell_type": "code",
   "execution_count": 57,
   "id": "74d64bd9",
   "metadata": {
    "scrolled": false
   },
   "outputs": [
    {
     "data": {
      "text/html": [
       "<div>\n",
       "<style scoped>\n",
       "    .dataframe tbody tr th:only-of-type {\n",
       "        vertical-align: middle;\n",
       "    }\n",
       "\n",
       "    .dataframe tbody tr th {\n",
       "        vertical-align: top;\n",
       "    }\n",
       "\n",
       "    .dataframe thead th {\n",
       "        text-align: right;\n",
       "    }\n",
       "</style>\n",
       "<table border=\"1\" class=\"dataframe\">\n",
       "  <thead>\n",
       "    <tr style=\"text-align: right;\">\n",
       "      <th></th>\n",
       "      <th>Actual</th>\n",
       "      <th>Predicted</th>\n",
       "    </tr>\n",
       "  </thead>\n",
       "  <tbody>\n",
       "    <tr>\n",
       "      <th>0</th>\n",
       "      <td>5.8</td>\n",
       "      <td>5.092949</td>\n",
       "    </tr>\n",
       "    <tr>\n",
       "      <th>1</th>\n",
       "      <td>3.7</td>\n",
       "      <td>5.086204</td>\n",
       "    </tr>\n",
       "    <tr>\n",
       "      <th>2</th>\n",
       "      <td>1.7</td>\n",
       "      <td>5.050789</td>\n",
       "    </tr>\n",
       "    <tr>\n",
       "      <th>3</th>\n",
       "      <td>3.9</td>\n",
       "      <td>5.103068</td>\n",
       "    </tr>\n",
       "    <tr>\n",
       "      <th>4</th>\n",
       "      <td>3.8</td>\n",
       "      <td>5.022963</td>\n",
       "    </tr>\n",
       "    <tr>\n",
       "      <th>5</th>\n",
       "      <td>4.9</td>\n",
       "      <td>5.022120</td>\n",
       "    </tr>\n",
       "    <tr>\n",
       "      <th>6</th>\n",
       "      <td>5.8</td>\n",
       "      <td>5.103068</td>\n",
       "    </tr>\n",
       "    <tr>\n",
       "      <th>7</th>\n",
       "      <td>4.3</td>\n",
       "      <td>5.060907</td>\n",
       "    </tr>\n",
       "    <tr>\n",
       "      <th>8</th>\n",
       "      <td>5.5</td>\n",
       "      <td>5.039827</td>\n",
       "    </tr>\n",
       "    <tr>\n",
       "      <th>9</th>\n",
       "      <td>1.5</td>\n",
       "      <td>5.065967</td>\n",
       "    </tr>\n",
       "    <tr>\n",
       "      <th>10</th>\n",
       "      <td>5.5</td>\n",
       "      <td>5.092106</td>\n",
       "    </tr>\n",
       "    <tr>\n",
       "      <th>11</th>\n",
       "      <td>5.1</td>\n",
       "      <td>5.103911</td>\n",
       "    </tr>\n",
       "    <tr>\n",
       "      <th>12</th>\n",
       "      <td>4.4</td>\n",
       "      <td>5.063437</td>\n",
       "    </tr>\n",
       "    <tr>\n",
       "      <th>13</th>\n",
       "      <td>6.7</td>\n",
       "      <td>5.048259</td>\n",
       "    </tr>\n",
       "    <tr>\n",
       "      <th>14</th>\n",
       "      <td>3.9</td>\n",
       "      <td>5.060907</td>\n",
       "    </tr>\n",
       "    <tr>\n",
       "      <th>15</th>\n",
       "      <td>5.0</td>\n",
       "      <td>5.019590</td>\n",
       "    </tr>\n",
       "    <tr>\n",
       "      <th>16</th>\n",
       "      <td>3.2</td>\n",
       "      <td>5.046573</td>\n",
       "    </tr>\n",
       "    <tr>\n",
       "      <th>17</th>\n",
       "      <td>4.3</td>\n",
       "      <td>5.028022</td>\n",
       "    </tr>\n",
       "    <tr>\n",
       "      <th>18</th>\n",
       "      <td>5.9</td>\n",
       "      <td>5.032238</td>\n",
       "    </tr>\n",
       "    <tr>\n",
       "      <th>19</th>\n",
       "      <td>6.8</td>\n",
       "      <td>5.023806</td>\n",
       "    </tr>\n",
       "    <tr>\n",
       "      <th>20</th>\n",
       "      <td>5.5</td>\n",
       "      <td>5.035611</td>\n",
       "    </tr>\n",
       "    <tr>\n",
       "      <th>21</th>\n",
       "      <td>4.7</td>\n",
       "      <td>5.079458</td>\n",
       "    </tr>\n",
       "    <tr>\n",
       "      <th>22</th>\n",
       "      <td>6.0</td>\n",
       "      <td>5.038141</td>\n",
       "    </tr>\n",
       "    <tr>\n",
       "      <th>23</th>\n",
       "      <td>2.5</td>\n",
       "      <td>5.070183</td>\n",
       "    </tr>\n",
       "    <tr>\n",
       "      <th>24</th>\n",
       "      <td>3.9</td>\n",
       "      <td>5.060907</td>\n",
       "    </tr>\n",
       "    <tr>\n",
       "      <th>25</th>\n",
       "      <td>4.6</td>\n",
       "      <td>5.037298</td>\n",
       "    </tr>\n",
       "    <tr>\n",
       "      <th>26</th>\n",
       "      <td>5.9</td>\n",
       "      <td>5.085361</td>\n",
       "    </tr>\n",
       "    <tr>\n",
       "      <th>27</th>\n",
       "      <td>3.3</td>\n",
       "      <td>5.082831</td>\n",
       "    </tr>\n",
       "    <tr>\n",
       "      <th>28</th>\n",
       "      <td>4.5</td>\n",
       "      <td>5.092106</td>\n",
       "    </tr>\n",
       "    <tr>\n",
       "      <th>29</th>\n",
       "      <td>6.2</td>\n",
       "      <td>5.087047</td>\n",
       "    </tr>\n",
       "  </tbody>\n",
       "</table>\n",
       "</div>"
      ],
      "text/plain": [
       "    Actual  Predicted\n",
       "0      5.8   5.092949\n",
       "1      3.7   5.086204\n",
       "2      1.7   5.050789\n",
       "3      3.9   5.103068\n",
       "4      3.8   5.022963\n",
       "5      4.9   5.022120\n",
       "6      5.8   5.103068\n",
       "7      4.3   5.060907\n",
       "8      5.5   5.039827\n",
       "9      1.5   5.065967\n",
       "10     5.5   5.092106\n",
       "11     5.1   5.103911\n",
       "12     4.4   5.063437\n",
       "13     6.7   5.048259\n",
       "14     3.9   5.060907\n",
       "15     5.0   5.019590\n",
       "16     3.2   5.046573\n",
       "17     4.3   5.028022\n",
       "18     5.9   5.032238\n",
       "19     6.8   5.023806\n",
       "20     5.5   5.035611\n",
       "21     4.7   5.079458\n",
       "22     6.0   5.038141\n",
       "23     2.5   5.070183\n",
       "24     3.9   5.060907\n",
       "25     4.6   5.037298\n",
       "26     5.9   5.085361\n",
       "27     3.3   5.082831\n",
       "28     4.5   5.092106\n",
       "29     6.2   5.087047"
      ]
     },
     "execution_count": 57,
     "metadata": {},
     "output_type": "execute_result"
    }
   ],
   "source": [
    "# Create a dataframe comparing the actual and predicted values of y.\n",
    "\n",
    "data = pd.DataFrame({'Actual': y_test.flatten(), 'Predicted': y_predicted.flatten()})\n",
    "data.head(30)"
   ]
  },
  {
   "cell_type": "markdown",
   "id": "9d88bdcf",
   "metadata": {},
   "source": [
    "### Conclusion"
   ]
  },
  {
   "cell_type": "markdown",
   "id": "b615ac0b",
   "metadata": {},
   "source": [
    "#### Model Summary Statistics for All Dive Sites:\n",
    "\n",
    "    Slope: -0.0727215\n",
    "    Mean squared error: 4.601447017658061\n",
    "    R2 score: -0.0010362562029697653\n",
    "\n",
    "#### Model Summary Statistics for \"Deception Pass\" Only:\n",
    "\n",
    "    Slope: -0.08432074\n",
    "    Mean squared error: 1.9904508649364645\n",
    "    R2 score: -0.0035201620546367884\n",
    "    \n",
    "#### For the model considering all dive sites, the relationship between \"Moon Illuminated\" and \"Current_Speed_(knots)\" is summarized by a slope of approximately -0.0727. However, the low R2 score of -0.0010 suggests that this linear regression model poorly explains the variability in the data.\n",
    "\n",
    "#### In contrast, when focusing exclusively on the \"Deception Pass\" dive site, the model presents a slightly steeper slope of -0.0843. Despite the improved slope, the R2 score remains notably low at -0.0035, suggesting that the model's fit is still poor. The mean squared error of 1.9905 is lower than the overall model but is still substantial.\n",
    "\n",
    "#### These results collectively indicate that both models have limited predictive power and fail to accurately capture the underlying relationship between moon phase and current speed for the specified dive sites. The negative R2 scores suggest that the models might be performing even worse than a horizontal line.\n",
    "\n",
    "#### Upon careful consideration, it's evident that moon phase indeed plays a significant role in influencing current speed at these dive sites. However, the linear regression models, due to their inability to capture non-linear relationships, weren't able to fully represent this impact. The non-linear nature of the relationship between moon phase and current speed highlights the need for alternative modeling approaches that can better capture these dynamics. Incorporating advanced techniques that account for non-linearity could lead to more accurate insights into how moon phase affects underwater currents at the dive sites."
   ]
  }
 ],
 "metadata": {
  "kernelspec": {
   "display_name": "Python 3 (ipykernel)",
   "language": "python",
   "name": "python3"
  },
  "language_info": {
   "codemirror_mode": {
    "name": "ipython",
    "version": 3
   },
   "file_extension": ".py",
   "mimetype": "text/x-python",
   "name": "python",
   "nbconvert_exporter": "python",
   "pygments_lexer": "ipython3",
   "version": "3.11.4"
  }
 },
 "nbformat": 4,
 "nbformat_minor": 5
}
